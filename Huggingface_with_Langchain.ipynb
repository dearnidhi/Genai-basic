{
 "cells": [
  {
   "cell_type": "code",
   "execution_count": 1,
   "id": "88421ee1-d818-4a8e-b384-e2f5b8b011c3",
   "metadata": {},
   "outputs": [
    {
     "name": "stdout",
     "output_type": "stream",
     "text": [
      "Collecting huggingface_hub\n",
      "  Downloading huggingface_hub-0.23.2-py3-none-any.whl.metadata (12 kB)\n",
      "Collecting filelock (from huggingface_hub)\n",
      "  Using cached filelock-3.14.0-py3-none-any.whl.metadata (2.8 kB)\n",
      "Collecting fsspec>=2023.5.0 (from huggingface_hub)\n",
      "  Using cached fsspec-2024.5.0-py3-none-any.whl.metadata (11 kB)\n",
      "Requirement already satisfied: packaging>=20.9 in c:\\users\\admin\\desktop\\nidhigenai\\myvenv\\lib\\site-packages (from huggingface_hub) (23.2)\n",
      "Requirement already satisfied: pyyaml>=5.1 in c:\\users\\admin\\desktop\\nidhigenai\\myvenv\\lib\\site-packages (from huggingface_hub) (6.0.1)\n",
      "Requirement already satisfied: requests in c:\\users\\admin\\desktop\\nidhigenai\\myvenv\\lib\\site-packages (from huggingface_hub) (2.32.2)\n",
      "Requirement already satisfied: tqdm>=4.42.1 in c:\\users\\admin\\desktop\\nidhigenai\\myvenv\\lib\\site-packages (from huggingface_hub) (4.66.4)\n",
      "Requirement already satisfied: typing-extensions>=3.7.4.3 in c:\\users\\admin\\desktop\\nidhigenai\\myvenv\\lib\\site-packages (from huggingface_hub) (4.12.0)\n",
      "Requirement already satisfied: colorama in c:\\users\\admin\\desktop\\nidhigenai\\myvenv\\lib\\site-packages (from tqdm>=4.42.1->huggingface_hub) (0.4.6)\n",
      "Requirement already satisfied: charset-normalizer<4,>=2 in c:\\users\\admin\\desktop\\nidhigenai\\myvenv\\lib\\site-packages (from requests->huggingface_hub) (3.3.2)\n",
      "Requirement already satisfied: idna<4,>=2.5 in c:\\users\\admin\\desktop\\nidhigenai\\myvenv\\lib\\site-packages (from requests->huggingface_hub) (3.7)\n",
      "Requirement already satisfied: urllib3<3,>=1.21.1 in c:\\users\\admin\\desktop\\nidhigenai\\myvenv\\lib\\site-packages (from requests->huggingface_hub) (2.2.1)\n",
      "Requirement already satisfied: certifi>=2017.4.17 in c:\\users\\admin\\desktop\\nidhigenai\\myvenv\\lib\\site-packages (from requests->huggingface_hub) (2024.2.2)\n",
      "Downloading huggingface_hub-0.23.2-py3-none-any.whl (401 kB)\n",
      "   ---------------------------------------- 0.0/401.7 kB ? eta -:--:--\n",
      "   ---------- ----------------------------- 102.4/401.7 kB 3.0 MB/s eta 0:00:01\n",
      "   ---------------------------- ----------- 286.7/401.7 kB 4.5 MB/s eta 0:00:01\n",
      "   ---------------------------------------- 401.7/401.7 kB 4.2 MB/s eta 0:00:00\n",
      "Using cached fsspec-2024.5.0-py3-none-any.whl (316 kB)\n",
      "Using cached filelock-3.14.0-py3-none-any.whl (12 kB)\n",
      "Installing collected packages: fsspec, filelock, huggingface_hub\n",
      "Successfully installed filelock-3.14.0 fsspec-2024.5.0 huggingface_hub-0.23.2\n",
      "Collecting transformers\n",
      "  Using cached transformers-4.41.1-py3-none-any.whl.metadata (43 kB)\n",
      "Requirement already satisfied: filelock in c:\\users\\admin\\desktop\\nidhigenai\\myvenv\\lib\\site-packages (from transformers) (3.14.0)\n",
      "Requirement already satisfied: huggingface-hub<1.0,>=0.23.0 in c:\\users\\admin\\desktop\\nidhigenai\\myvenv\\lib\\site-packages (from transformers) (0.23.2)\n",
      "Requirement already satisfied: numpy>=1.17 in c:\\users\\admin\\desktop\\nidhigenai\\myvenv\\lib\\site-packages (from transformers) (1.26.4)\n",
      "Requirement already satisfied: packaging>=20.0 in c:\\users\\admin\\desktop\\nidhigenai\\myvenv\\lib\\site-packages (from transformers) (23.2)\n",
      "Requirement already satisfied: pyyaml>=5.1 in c:\\users\\admin\\desktop\\nidhigenai\\myvenv\\lib\\site-packages (from transformers) (6.0.1)\n",
      "Collecting regex!=2019.12.17 (from transformers)\n",
      "  Using cached regex-2024.5.15-cp311-cp311-win_amd64.whl.metadata (41 kB)\n",
      "Requirement already satisfied: requests in c:\\users\\admin\\desktop\\nidhigenai\\myvenv\\lib\\site-packages (from transformers) (2.32.2)\n",
      "Collecting tokenizers<0.20,>=0.19 (from transformers)\n",
      "  Using cached tokenizers-0.19.1-cp311-none-win_amd64.whl.metadata (6.9 kB)\n",
      "Collecting safetensors>=0.4.1 (from transformers)\n",
      "  Using cached safetensors-0.4.3-cp311-none-win_amd64.whl.metadata (3.9 kB)\n",
      "Requirement already satisfied: tqdm>=4.27 in c:\\users\\admin\\desktop\\nidhigenai\\myvenv\\lib\\site-packages (from transformers) (4.66.4)\n",
      "Requirement already satisfied: fsspec>=2023.5.0 in c:\\users\\admin\\desktop\\nidhigenai\\myvenv\\lib\\site-packages (from huggingface-hub<1.0,>=0.23.0->transformers) (2024.5.0)\n",
      "Requirement already satisfied: typing-extensions>=3.7.4.3 in c:\\users\\admin\\desktop\\nidhigenai\\myvenv\\lib\\site-packages (from huggingface-hub<1.0,>=0.23.0->transformers) (4.12.0)\n",
      "Requirement already satisfied: colorama in c:\\users\\admin\\desktop\\nidhigenai\\myvenv\\lib\\site-packages (from tqdm>=4.27->transformers) (0.4.6)\n",
      "Requirement already satisfied: charset-normalizer<4,>=2 in c:\\users\\admin\\desktop\\nidhigenai\\myvenv\\lib\\site-packages (from requests->transformers) (3.3.2)\n",
      "Requirement already satisfied: idna<4,>=2.5 in c:\\users\\admin\\desktop\\nidhigenai\\myvenv\\lib\\site-packages (from requests->transformers) (3.7)\n",
      "Requirement already satisfied: urllib3<3,>=1.21.1 in c:\\users\\admin\\desktop\\nidhigenai\\myvenv\\lib\\site-packages (from requests->transformers) (2.2.1)\n",
      "Requirement already satisfied: certifi>=2017.4.17 in c:\\users\\admin\\desktop\\nidhigenai\\myvenv\\lib\\site-packages (from requests->transformers) (2024.2.2)\n",
      "Using cached transformers-4.41.1-py3-none-any.whl (9.1 MB)\n",
      "Using cached regex-2024.5.15-cp311-cp311-win_amd64.whl (268 kB)\n",
      "Using cached safetensors-0.4.3-cp311-none-win_amd64.whl (287 kB)\n",
      "Using cached tokenizers-0.19.1-cp311-none-win_amd64.whl (2.2 MB)\n",
      "Installing collected packages: safetensors, regex, tokenizers, transformers\n",
      "Successfully installed regex-2024.5.15 safetensors-0.4.3 tokenizers-0.19.1 transformers-4.41.1\n",
      "Collecting accelerate\n",
      "  Downloading accelerate-0.30.1-py3-none-any.whl.metadata (18 kB)\n",
      "Requirement already satisfied: numpy>=1.17 in c:\\users\\admin\\desktop\\nidhigenai\\myvenv\\lib\\site-packages (from accelerate) (1.26.4)\n",
      "Requirement already satisfied: packaging>=20.0 in c:\\users\\admin\\desktop\\nidhigenai\\myvenv\\lib\\site-packages (from accelerate) (23.2)\n",
      "Requirement already satisfied: psutil in c:\\users\\admin\\desktop\\nidhigenai\\myvenv\\lib\\site-packages (from accelerate) (5.9.8)\n",
      "Requirement already satisfied: pyyaml in c:\\users\\admin\\desktop\\nidhigenai\\myvenv\\lib\\site-packages (from accelerate) (6.0.1)\n",
      "Collecting torch>=1.10.0 (from accelerate)\n",
      "  Using cached torch-2.3.0-cp311-cp311-win_amd64.whl.metadata (26 kB)\n",
      "Requirement already satisfied: huggingface-hub in c:\\users\\admin\\desktop\\nidhigenai\\myvenv\\lib\\site-packages (from accelerate) (0.23.2)\n",
      "Requirement already satisfied: safetensors>=0.3.1 in c:\\users\\admin\\desktop\\nidhigenai\\myvenv\\lib\\site-packages (from accelerate) (0.4.3)\n",
      "Requirement already satisfied: filelock in c:\\users\\admin\\desktop\\nidhigenai\\myvenv\\lib\\site-packages (from torch>=1.10.0->accelerate) (3.14.0)\n",
      "Requirement already satisfied: typing-extensions>=4.8.0 in c:\\users\\admin\\desktop\\nidhigenai\\myvenv\\lib\\site-packages (from torch>=1.10.0->accelerate) (4.12.0)\n",
      "Collecting sympy (from torch>=1.10.0->accelerate)\n",
      "  Using cached sympy-1.12-py3-none-any.whl.metadata (12 kB)\n",
      "Collecting networkx (from torch>=1.10.0->accelerate)\n",
      "  Using cached networkx-3.3-py3-none-any.whl.metadata (5.1 kB)\n",
      "Requirement already satisfied: jinja2 in c:\\users\\admin\\desktop\\nidhigenai\\myvenv\\lib\\site-packages (from torch>=1.10.0->accelerate) (3.1.4)\n",
      "Requirement already satisfied: fsspec in c:\\users\\admin\\desktop\\nidhigenai\\myvenv\\lib\\site-packages (from torch>=1.10.0->accelerate) (2024.5.0)\n",
      "Collecting mkl<=2021.4.0,>=2021.1.1 (from torch>=1.10.0->accelerate)\n",
      "  Using cached mkl-2021.4.0-py2.py3-none-win_amd64.whl.metadata (1.4 kB)\n",
      "Requirement already satisfied: requests in c:\\users\\admin\\desktop\\nidhigenai\\myvenv\\lib\\site-packages (from huggingface-hub->accelerate) (2.32.2)\n",
      "Requirement already satisfied: tqdm>=4.42.1 in c:\\users\\admin\\desktop\\nidhigenai\\myvenv\\lib\\site-packages (from huggingface-hub->accelerate) (4.66.4)\n",
      "Collecting intel-openmp==2021.* (from mkl<=2021.4.0,>=2021.1.1->torch>=1.10.0->accelerate)\n",
      "  Using cached intel_openmp-2021.4.0-py2.py3-none-win_amd64.whl.metadata (1.2 kB)\n",
      "Collecting tbb==2021.* (from mkl<=2021.4.0,>=2021.1.1->torch>=1.10.0->accelerate)\n",
      "  Using cached tbb-2021.12.0-py3-none-win_amd64.whl.metadata (1.1 kB)\n",
      "Requirement already satisfied: colorama in c:\\users\\admin\\desktop\\nidhigenai\\myvenv\\lib\\site-packages (from tqdm>=4.42.1->huggingface-hub->accelerate) (0.4.6)\n",
      "Requirement already satisfied: MarkupSafe>=2.0 in c:\\users\\admin\\desktop\\nidhigenai\\myvenv\\lib\\site-packages (from jinja2->torch>=1.10.0->accelerate) (2.1.5)\n",
      "Requirement already satisfied: charset-normalizer<4,>=2 in c:\\users\\admin\\desktop\\nidhigenai\\myvenv\\lib\\site-packages (from requests->huggingface-hub->accelerate) (3.3.2)\n",
      "Requirement already satisfied: idna<4,>=2.5 in c:\\users\\admin\\desktop\\nidhigenai\\myvenv\\lib\\site-packages (from requests->huggingface-hub->accelerate) (3.7)\n",
      "Requirement already satisfied: urllib3<3,>=1.21.1 in c:\\users\\admin\\desktop\\nidhigenai\\myvenv\\lib\\site-packages (from requests->huggingface-hub->accelerate) (2.2.1)\n",
      "Requirement already satisfied: certifi>=2017.4.17 in c:\\users\\admin\\desktop\\nidhigenai\\myvenv\\lib\\site-packages (from requests->huggingface-hub->accelerate) (2024.2.2)\n",
      "Collecting mpmath>=0.19 (from sympy->torch>=1.10.0->accelerate)\n",
      "  Using cached mpmath-1.3.0-py3-none-any.whl.metadata (8.6 kB)\n",
      "Downloading accelerate-0.30.1-py3-none-any.whl (302 kB)\n",
      "   ---------------------------------------- 0.0/302.6 kB ? eta -:--:--\n",
      "   ----- ---------------------------------- 41.0/302.6 kB 1.9 MB/s eta 0:00:01\n",
      "   --------------------------------- ------ 256.0/302.6 kB 3.9 MB/s eta 0:00:01\n",
      "   ---------------------------------------- 302.6/302.6 kB 2.7 MB/s eta 0:00:00\n",
      "Using cached torch-2.3.0-cp311-cp311-win_amd64.whl (159.8 MB)\n",
      "Using cached mkl-2021.4.0-py2.py3-none-win_amd64.whl (228.5 MB)\n",
      "Using cached intel_openmp-2021.4.0-py2.py3-none-win_amd64.whl (3.5 MB)\n",
      "Using cached tbb-2021.12.0-py3-none-win_amd64.whl (286 kB)\n",
      "Using cached networkx-3.3-py3-none-any.whl (1.7 MB)\n",
      "Using cached sympy-1.12-py3-none-any.whl (5.7 MB)\n",
      "Using cached mpmath-1.3.0-py3-none-any.whl (536 kB)\n",
      "Installing collected packages: tbb, mpmath, intel-openmp, sympy, networkx, mkl, torch, accelerate\n",
      "Successfully installed accelerate-0.30.1 intel-openmp-2021.4.0 mkl-2021.4.0 mpmath-1.3.0 networkx-3.3 sympy-1.12 tbb-2021.12.0 torch-2.3.0\n",
      "Collecting bitsandbytes\n",
      "  Downloading bitsandbytes-0.43.1-py3-none-win_amd64.whl.metadata (2.2 kB)\n",
      "Requirement already satisfied: torch in c:\\users\\admin\\desktop\\nidhigenai\\myvenv\\lib\\site-packages (from bitsandbytes) (2.3.0)\n",
      "Requirement already satisfied: numpy in c:\\users\\admin\\desktop\\nidhigenai\\myvenv\\lib\\site-packages (from bitsandbytes) (1.26.4)\n",
      "Requirement already satisfied: filelock in c:\\users\\admin\\desktop\\nidhigenai\\myvenv\\lib\\site-packages (from torch->bitsandbytes) (3.14.0)\n",
      "Requirement already satisfied: typing-extensions>=4.8.0 in c:\\users\\admin\\desktop\\nidhigenai\\myvenv\\lib\\site-packages (from torch->bitsandbytes) (4.12.0)\n",
      "Requirement already satisfied: sympy in c:\\users\\admin\\desktop\\nidhigenai\\myvenv\\lib\\site-packages (from torch->bitsandbytes) (1.12)\n",
      "Requirement already satisfied: networkx in c:\\users\\admin\\desktop\\nidhigenai\\myvenv\\lib\\site-packages (from torch->bitsandbytes) (3.3)\n",
      "Requirement already satisfied: jinja2 in c:\\users\\admin\\desktop\\nidhigenai\\myvenv\\lib\\site-packages (from torch->bitsandbytes) (3.1.4)\n",
      "Requirement already satisfied: fsspec in c:\\users\\admin\\desktop\\nidhigenai\\myvenv\\lib\\site-packages (from torch->bitsandbytes) (2024.5.0)\n",
      "Requirement already satisfied: mkl<=2021.4.0,>=2021.1.1 in c:\\users\\admin\\desktop\\nidhigenai\\myvenv\\lib\\site-packages (from torch->bitsandbytes) (2021.4.0)\n",
      "Requirement already satisfied: intel-openmp==2021.* in c:\\users\\admin\\desktop\\nidhigenai\\myvenv\\lib\\site-packages (from mkl<=2021.4.0,>=2021.1.1->torch->bitsandbytes) (2021.4.0)\n",
      "Requirement already satisfied: tbb==2021.* in c:\\users\\admin\\desktop\\nidhigenai\\myvenv\\lib\\site-packages (from mkl<=2021.4.0,>=2021.1.1->torch->bitsandbytes) (2021.12.0)\n",
      "Requirement already satisfied: MarkupSafe>=2.0 in c:\\users\\admin\\desktop\\nidhigenai\\myvenv\\lib\\site-packages (from jinja2->torch->bitsandbytes) (2.1.5)\n",
      "Requirement already satisfied: mpmath>=0.19 in c:\\users\\admin\\desktop\\nidhigenai\\myvenv\\lib\\site-packages (from sympy->torch->bitsandbytes) (1.3.0)\n",
      "Downloading bitsandbytes-0.43.1-py3-none-win_amd64.whl (101.6 MB)\n",
      "   ---------------------------------------- 0.0/101.6 MB ? eta -:--:--\n",
      "   ---------------------------------------- 0.1/101.6 MB 3.0 MB/s eta 0:00:35\n",
      "   ---------------------------------------- 0.3/101.6 MB 3.3 MB/s eta 0:00:31\n",
      "   ---------------------------------------- 0.4/101.6 MB 3.2 MB/s eta 0:00:32\n",
      "   ---------------------------------------- 0.5/101.6 MB 2.9 MB/s eta 0:00:35\n",
      "   ---------------------------------------- 0.8/101.6 MB 3.8 MB/s eta 0:00:27\n",
      "   ---------------------------------------- 1.1/101.6 MB 4.0 MB/s eta 0:00:26\n",
      "    --------------------------------------- 1.4/101.6 MB 4.6 MB/s eta 0:00:22\n",
      "    --------------------------------------- 1.7/101.6 MB 4.9 MB/s eta 0:00:21\n",
      "    --------------------------------------- 2.0/101.6 MB 5.0 MB/s eta 0:00:20\n",
      "    --------------------------------------- 2.3/101.6 MB 5.1 MB/s eta 0:00:20\n",
      "   - -------------------------------------- 2.9/101.6 MB 5.7 MB/s eta 0:00:18\n",
      "   - -------------------------------------- 3.2/101.6 MB 5.9 MB/s eta 0:00:17\n",
      "   - -------------------------------------- 3.6/101.6 MB 6.0 MB/s eta 0:00:17\n",
      "   - -------------------------------------- 4.0/101.6 MB 6.2 MB/s eta 0:00:16\n",
      "   - -------------------------------------- 4.4/101.6 MB 6.4 MB/s eta 0:00:16\n",
      "   - -------------------------------------- 4.9/101.6 MB 6.6 MB/s eta 0:00:15\n",
      "   - -------------------------------------- 5.0/101.6 MB 6.4 MB/s eta 0:00:16\n",
      "   -- ------------------------------------- 5.4/101.6 MB 6.5 MB/s eta 0:00:15\n",
      "   -- ------------------------------------- 5.8/101.6 MB 6.6 MB/s eta 0:00:15\n",
      "   -- ------------------------------------- 6.2/101.6 MB 6.7 MB/s eta 0:00:15\n",
      "   -- ------------------------------------- 6.7/101.6 MB 6.9 MB/s eta 0:00:14\n",
      "   -- ------------------------------------- 6.7/101.6 MB 6.9 MB/s eta 0:00:14\n",
      "   -- ------------------------------------- 7.2/101.6 MB 6.7 MB/s eta 0:00:14\n",
      "   -- ------------------------------------- 7.4/101.6 MB 6.6 MB/s eta 0:00:15\n",
      "   --- ------------------------------------ 7.9/101.6 MB 6.8 MB/s eta 0:00:14\n",
      "   --- ------------------------------------ 8.5/101.6 MB 7.0 MB/s eta 0:00:14\n",
      "   --- ------------------------------------ 8.9/101.6 MB 7.1 MB/s eta 0:00:14\n",
      "   --- ------------------------------------ 9.2/101.6 MB 7.1 MB/s eta 0:00:14\n",
      "   --- ------------------------------------ 9.8/101.6 MB 7.3 MB/s eta 0:00:13\n",
      "   ---- ----------------------------------- 10.3/101.6 MB 7.4 MB/s eta 0:00:13\n",
      "   ---- ----------------------------------- 10.8/101.6 MB 8.2 MB/s eta 0:00:12\n",
      "   ---- ----------------------------------- 11.3/101.6 MB 8.5 MB/s eta 0:00:11\n",
      "   ---- ----------------------------------- 11.9/101.6 MB 8.6 MB/s eta 0:00:11\n",
      "   ---- ----------------------------------- 12.4/101.6 MB 8.8 MB/s eta 0:00:11\n",
      "   ----- ---------------------------------- 12.9/101.6 MB 9.0 MB/s eta 0:00:10\n",
      "   ----- ---------------------------------- 13.3/101.6 MB 9.0 MB/s eta 0:00:10\n",
      "   ----- ---------------------------------- 13.6/101.6 MB 9.1 MB/s eta 0:00:10\n",
      "   ----- ---------------------------------- 14.0/101.6 MB 9.1 MB/s eta 0:00:10\n",
      "   ----- ---------------------------------- 14.6/101.6 MB 9.2 MB/s eta 0:00:10\n",
      "   ----- ---------------------------------- 15.1/101.6 MB 9.2 MB/s eta 0:00:10\n",
      "   ------ --------------------------------- 15.6/101.6 MB 9.6 MB/s eta 0:00:09\n",
      "   ------ --------------------------------- 16.2/101.6 MB 9.8 MB/s eta 0:00:09\n",
      "   ------ --------------------------------- 16.6/101.6 MB 9.8 MB/s eta 0:00:09\n",
      "   ------ --------------------------------- 16.9/101.6 MB 10.2 MB/s eta 0:00:09\n",
      "   ------ --------------------------------- 17.5/101.6 MB 10.4 MB/s eta 0:00:09\n",
      "   ------- -------------------------------- 18.1/101.6 MB 10.6 MB/s eta 0:00:08\n",
      "   ------- -------------------------------- 18.6/101.6 MB 10.4 MB/s eta 0:00:08\n",
      "   ------- -------------------------------- 19.0/101.6 MB 10.4 MB/s eta 0:00:08\n",
      "   ------- -------------------------------- 19.4/101.6 MB 10.6 MB/s eta 0:00:08\n",
      "   ------- -------------------------------- 19.5/101.6 MB 10.1 MB/s eta 0:00:09\n",
      "   ------- -------------------------------- 20.0/101.6 MB 10.1 MB/s eta 0:00:09\n",
      "   ------- -------------------------------- 20.0/101.6 MB 9.6 MB/s eta 0:00:09\n",
      "   -------- ------------------------------- 20.4/101.6 MB 9.6 MB/s eta 0:00:09\n",
      "   -------- ------------------------------- 20.7/101.6 MB 9.4 MB/s eta 0:00:09\n",
      "   -------- ------------------------------- 21.1/101.6 MB 9.2 MB/s eta 0:00:09\n",
      "   -------- ------------------------------- 21.7/101.6 MB 9.2 MB/s eta 0:00:09\n",
      "   -------- ------------------------------- 22.1/101.6 MB 9.2 MB/s eta 0:00:09\n",
      "   -------- ------------------------------- 22.8/101.6 MB 9.4 MB/s eta 0:00:09\n",
      "   --------- ------------------------------ 23.1/101.6 MB 9.4 MB/s eta 0:00:09\n",
      "   --------- ------------------------------ 23.1/101.6 MB 9.4 MB/s eta 0:00:09\n",
      "   --------- ------------------------------ 23.1/101.6 MB 9.4 MB/s eta 0:00:09\n",
      "   --------- ------------------------------ 23.4/101.6 MB 8.5 MB/s eta 0:00:10\n",
      "   --------- ------------------------------ 24.1/101.6 MB 8.7 MB/s eta 0:00:09\n",
      "   --------- ------------------------------ 24.6/101.6 MB 8.6 MB/s eta 0:00:09\n",
      "   --------- ------------------------------ 25.1/101.6 MB 8.7 MB/s eta 0:00:09\n",
      "   ---------- ----------------------------- 25.8/101.6 MB 8.8 MB/s eta 0:00:09\n",
      "   ---------- ----------------------------- 26.3/101.6 MB 8.8 MB/s eta 0:00:09\n",
      "   ---------- ----------------------------- 27.0/101.6 MB 9.0 MB/s eta 0:00:09\n",
      "   ---------- ----------------------------- 27.5/101.6 MB 9.0 MB/s eta 0:00:09\n",
      "   ----------- ---------------------------- 28.2/101.6 MB 9.0 MB/s eta 0:00:09\n",
      "   ----------- ---------------------------- 28.7/101.6 MB 9.0 MB/s eta 0:00:09\n",
      "   ----------- ---------------------------- 29.3/101.6 MB 9.2 MB/s eta 0:00:08\n",
      "   ----------- ---------------------------- 29.9/101.6 MB 9.6 MB/s eta 0:00:08\n",
      "   ------------ --------------------------- 30.5/101.6 MB 10.2 MB/s eta 0:00:07\n",
      "   ------------ --------------------------- 31.2/101.6 MB 10.7 MB/s eta 0:00:07\n",
      "   ------------ --------------------------- 31.4/101.6 MB 10.6 MB/s eta 0:00:07\n",
      "   ------------ --------------------------- 32.0/101.6 MB 10.6 MB/s eta 0:00:07\n",
      "   ------------ --------------------------- 32.6/101.6 MB 10.7 MB/s eta 0:00:07\n",
      "   ------------- -------------------------- 33.2/101.6 MB 10.6 MB/s eta 0:00:07\n",
      "   ------------- -------------------------- 33.9/101.6 MB 12.4 MB/s eta 0:00:06\n",
      "   ------------- -------------------------- 34.5/101.6 MB 12.4 MB/s eta 0:00:06\n",
      "   ------------- -------------------------- 35.1/101.6 MB 12.6 MB/s eta 0:00:06\n",
      "   -------------- ------------------------- 35.7/101.6 MB 12.4 MB/s eta 0:00:06\n",
      "   -------------- ------------------------- 36.4/101.6 MB 12.6 MB/s eta 0:00:06\n",
      "   -------------- ------------------------- 36.8/101.6 MB 12.6 MB/s eta 0:00:06\n",
      "   -------------- ------------------------- 37.6/101.6 MB 12.6 MB/s eta 0:00:06\n",
      "   --------------- ------------------------ 38.2/101.6 MB 12.6 MB/s eta 0:00:06\n",
      "   --------------- ------------------------ 38.8/101.6 MB 12.6 MB/s eta 0:00:05\n",
      "   --------------- ------------------------ 39.4/101.6 MB 12.6 MB/s eta 0:00:05\n",
      "   --------------- ------------------------ 40.0/101.6 MB 12.6 MB/s eta 0:00:05\n",
      "   ---------------- ----------------------- 40.7/101.6 MB 12.8 MB/s eta 0:00:05\n",
      "   ---------------- ----------------------- 41.2/101.6 MB 12.8 MB/s eta 0:00:05\n",
      "   ---------------- ----------------------- 41.8/101.6 MB 13.1 MB/s eta 0:00:05\n",
      "   ---------------- ----------------------- 42.5/101.6 MB 13.4 MB/s eta 0:00:05\n",
      "   ---------------- ----------------------- 43.1/101.6 MB 13.1 MB/s eta 0:00:05\n",
      "   ----------------- ---------------------- 43.7/101.6 MB 13.4 MB/s eta 0:00:05\n",
      "   ----------------- ---------------------- 44.4/101.6 MB 13.4 MB/s eta 0:00:05\n",
      "   ----------------- ---------------------- 45.0/101.6 MB 13.1 MB/s eta 0:00:05\n",
      "   ----------------- ---------------------- 45.6/101.6 MB 13.6 MB/s eta 0:00:05\n",
      "   ------------------ --------------------- 46.2/101.6 MB 13.6 MB/s eta 0:00:05\n",
      "   ------------------ --------------------- 46.3/101.6 MB 13.1 MB/s eta 0:00:05\n",
      "   ------------------ --------------------- 46.4/101.6 MB 12.1 MB/s eta 0:00:05\n",
      "   ------------------ --------------------- 47.1/101.6 MB 12.1 MB/s eta 0:00:05\n",
      "   ------------------ --------------------- 47.9/101.6 MB 12.1 MB/s eta 0:00:05\n",
      "   ------------------- -------------------- 48.3/101.6 MB 11.9 MB/s eta 0:00:05\n",
      "   ------------------- -------------------- 48.7/101.6 MB 11.7 MB/s eta 0:00:05\n",
      "   ------------------- -------------------- 49.1/101.6 MB 11.5 MB/s eta 0:00:05\n",
      "   ------------------- -------------------- 49.7/101.6 MB 11.5 MB/s eta 0:00:05\n",
      "   ------------------- -------------------- 50.4/101.6 MB 11.5 MB/s eta 0:00:05\n",
      "   -------------------- ------------------- 51.1/101.6 MB 11.7 MB/s eta 0:00:05\n",
      "   -------------------- ------------------- 51.4/101.6 MB 11.5 MB/s eta 0:00:05\n",
      "   -------------------- ------------------- 51.9/101.6 MB 11.3 MB/s eta 0:00:05\n",
      "   -------------------- ------------------- 52.6/101.6 MB 11.3 MB/s eta 0:00:05\n",
      "   -------------------- ------------------- 53.1/101.6 MB 11.1 MB/s eta 0:00:05\n",
      "   --------------------- ------------------ 53.7/101.6 MB 11.1 MB/s eta 0:00:05\n",
      "   --------------------- ------------------ 54.3/101.6 MB 11.1 MB/s eta 0:00:05\n",
      "   --------------------- ------------------ 55.0/101.6 MB 11.1 MB/s eta 0:00:05\n",
      "   --------------------- ------------------ 55.6/101.6 MB 11.1 MB/s eta 0:00:05\n",
      "   --------------------- ------------------ 55.8/101.6 MB 11.1 MB/s eta 0:00:05\n",
      "   ---------------------- ----------------- 56.0/101.6 MB 10.4 MB/s eta 0:00:05\n",
      "   ---------------------- ----------------- 56.6/101.6 MB 11.3 MB/s eta 0:00:04\n",
      "   ---------------------- ----------------- 56.8/101.6 MB 10.9 MB/s eta 0:00:05\n",
      "   ---------------------- ----------------- 57.2/101.6 MB 10.7 MB/s eta 0:00:05\n",
      "   ---------------------- ----------------- 57.6/101.6 MB 10.7 MB/s eta 0:00:05\n",
      "   ---------------------- ----------------- 58.2/101.6 MB 10.6 MB/s eta 0:00:05\n",
      "   ----------------------- ---------------- 58.8/101.6 MB 10.9 MB/s eta 0:00:04\n",
      "   ----------------------- ---------------- 59.3/101.6 MB 10.7 MB/s eta 0:00:04\n",
      "   ----------------------- ---------------- 60.2/101.6 MB 10.7 MB/s eta 0:00:04\n",
      "   ----------------------- ---------------- 60.5/101.6 MB 10.7 MB/s eta 0:00:04\n",
      "   ------------------------ --------------- 61.0/101.6 MB 10.4 MB/s eta 0:00:04\n",
      "   ------------------------ --------------- 61.7/101.6 MB 10.7 MB/s eta 0:00:04\n",
      "   ------------------------ --------------- 62.5/101.6 MB 10.7 MB/s eta 0:00:04\n",
      "   ------------------------ --------------- 62.9/101.6 MB 10.7 MB/s eta 0:00:04\n",
      "   ------------------------ --------------- 63.2/101.6 MB 10.2 MB/s eta 0:00:04\n",
      "   ------------------------- -------------- 63.7/101.6 MB 10.2 MB/s eta 0:00:04\n",
      "   ------------------------- -------------- 64.0/101.6 MB 10.2 MB/s eta 0:00:04\n",
      "   ------------------------- -------------- 64.7/101.6 MB 10.1 MB/s eta 0:00:04\n",
      "   ------------------------- -------------- 65.2/101.6 MB 10.1 MB/s eta 0:00:04\n",
      "   ------------------------- -------------- 65.8/101.6 MB 9.9 MB/s eta 0:00:04\n",
      "   -------------------------- ------------- 66.4/101.6 MB 10.6 MB/s eta 0:00:04\n",
      "   -------------------------- ------------- 67.0/101.6 MB 10.7 MB/s eta 0:00:04\n",
      "   -------------------------- ------------- 67.6/101.6 MB 11.3 MB/s eta 0:00:04\n",
      "   -------------------------- ------------- 68.3/101.6 MB 11.3 MB/s eta 0:00:03\n",
      "   --------------------------- ------------ 68.9/101.6 MB 11.5 MB/s eta 0:00:03\n",
      "   --------------------------- ------------ 69.5/101.6 MB 11.7 MB/s eta 0:00:03\n",
      "   --------------------------- ------------ 70.2/101.6 MB 11.9 MB/s eta 0:00:03\n",
      "   --------------------------- ------------ 70.7/101.6 MB 12.4 MB/s eta 0:00:03\n",
      "   ---------------------------- ----------- 71.4/101.6 MB 12.4 MB/s eta 0:00:03\n",
      "   ---------------------------- ----------- 71.8/101.6 MB 12.4 MB/s eta 0:00:03\n",
      "   ---------------------------- ----------- 71.8/101.6 MB 11.9 MB/s eta 0:00:03\n",
      "   ---------------------------- ----------- 72.4/101.6 MB 11.3 MB/s eta 0:00:03\n",
      "   ---------------------------- ----------- 73.0/101.6 MB 11.5 MB/s eta 0:00:03\n",
      "   ---------------------------- ----------- 73.6/101.6 MB 11.9 MB/s eta 0:00:03\n",
      "   ----------------------------- ---------- 74.2/101.6 MB 11.9 MB/s eta 0:00:03\n",
      "   ----------------------------- ---------- 74.8/101.6 MB 12.1 MB/s eta 0:00:03\n",
      "   ----------------------------- ---------- 75.4/101.6 MB 12.4 MB/s eta 0:00:03\n",
      "   ----------------------------- ---------- 76.1/101.6 MB 12.4 MB/s eta 0:00:03\n",
      "   ------------------------------ --------- 76.7/101.6 MB 12.4 MB/s eta 0:00:03\n",
      "   ------------------------------ --------- 77.4/101.6 MB 12.1 MB/s eta 0:00:02\n",
      "   ------------------------------ --------- 78.0/101.6 MB 12.3 MB/s eta 0:00:02\n",
      "   ------------------------------ --------- 78.5/101.6 MB 12.1 MB/s eta 0:00:02\n",
      "   ------------------------------- -------- 79.2/101.6 MB 12.4 MB/s eta 0:00:02\n",
      "   ------------------------------- -------- 79.8/101.6 MB 12.1 MB/s eta 0:00:02\n",
      "   ------------------------------- -------- 80.4/101.6 MB 12.1 MB/s eta 0:00:02\n",
      "   ------------------------------- -------- 81.0/101.6 MB 12.1 MB/s eta 0:00:02\n",
      "   -------------------------------- ------- 81.7/101.6 MB 12.1 MB/s eta 0:00:02\n",
      "   -------------------------------- ------- 82.2/101.6 MB 13.4 MB/s eta 0:00:02\n",
      "   -------------------------------- ------- 82.9/101.6 MB 13.6 MB/s eta 0:00:02\n",
      "   -------------------------------- ------- 83.5/101.6 MB 13.6 MB/s eta 0:00:02\n",
      "   --------------------------------- ------ 84.1/101.6 MB 13.4 MB/s eta 0:00:02\n",
      "   --------------------------------- ------ 84.8/101.6 MB 13.4 MB/s eta 0:00:02\n",
      "   --------------------------------- ------ 85.3/101.6 MB 13.4 MB/s eta 0:00:02\n",
      "   --------------------------------- ------ 86.0/101.6 MB 13.4 MB/s eta 0:00:02\n",
      "   ---------------------------------- ----- 86.6/101.6 MB 13.4 MB/s eta 0:00:02\n",
      "   ---------------------------------- ----- 87.1/101.6 MB 13.1 MB/s eta 0:00:02\n",
      "   ---------------------------------- ----- 87.7/101.6 MB 13.4 MB/s eta 0:00:02\n",
      "   ---------------------------------- ----- 88.4/101.6 MB 13.4 MB/s eta 0:00:01\n",
      "   ----------------------------------- ---- 88.9/101.6 MB 13.1 MB/s eta 0:00:01\n",
      "   ----------------------------------- ---- 89.5/101.6 MB 13.1 MB/s eta 0:00:01\n",
      "   ----------------------------------- ---- 90.1/101.6 MB 13.1 MB/s eta 0:00:01\n",
      "   ----------------------------------- ---- 90.6/101.6 MB 12.8 MB/s eta 0:00:01\n",
      "   ----------------------------------- ---- 91.2/101.6 MB 12.8 MB/s eta 0:00:01\n",
      "   ----------------------------------- ---- 91.2/101.6 MB 12.8 MB/s eta 0:00:01\n",
      "   ------------------------------------ --- 91.6/101.6 MB 11.9 MB/s eta 0:00:01\n",
      "   ------------------------------------ --- 92.2/101.6 MB 11.9 MB/s eta 0:00:01\n",
      "   ------------------------------------ --- 92.8/101.6 MB 11.9 MB/s eta 0:00:01\n",
      "   ------------------------------------ --- 93.4/101.6 MB 11.9 MB/s eta 0:00:01\n",
      "   ------------------------------------- -- 94.0/101.6 MB 11.9 MB/s eta 0:00:01\n",
      "   ------------------------------------- -- 94.7/101.6 MB 11.9 MB/s eta 0:00:01\n",
      "   ------------------------------------- -- 95.2/101.6 MB 11.9 MB/s eta 0:00:01\n",
      "   ------------------------------------- -- 95.8/101.6 MB 11.7 MB/s eta 0:00:01\n",
      "   ------------------------------------- -- 96.5/101.6 MB 11.9 MB/s eta 0:00:01\n",
      "   ------------------------------------- -- 96.5/101.6 MB 11.9 MB/s eta 0:00:01\n",
      "   -------------------------------------- - 96.8/101.6 MB 10.9 MB/s eta 0:00:01\n",
      "   -------------------------------------- - 97.4/101.6 MB 10.9 MB/s eta 0:00:01\n",
      "   -------------------------------------- - 98.0/101.6 MB 10.9 MB/s eta 0:00:01\n",
      "   -------------------------------------- - 98.6/101.6 MB 10.9 MB/s eta 0:00:01\n",
      "   ---------------------------------------  99.2/101.6 MB 11.1 MB/s eta 0:00:01\n",
      "   ---------------------------------------  99.9/101.6 MB 11.1 MB/s eta 0:00:01\n",
      "   --------------------------------------  100.4/101.6 MB 11.1 MB/s eta 0:00:01\n",
      "   --------------------------------------  101.0/101.6 MB 11.1 MB/s eta 0:00:01\n",
      "   --------------------------------------  101.6/101.6 MB 12.1 MB/s eta 0:00:01\n",
      "   --------------------------------------  101.6/101.6 MB 12.1 MB/s eta 0:00:01\n",
      "   --------------------------------------  101.6/101.6 MB 12.1 MB/s eta 0:00:01\n",
      "   --------------------------------------  101.6/101.6 MB 12.1 MB/s eta 0:00:01\n",
      "   --------------------------------------  101.6/101.6 MB 12.1 MB/s eta 0:00:01\n",
      "   --------------------------------------  101.6/101.6 MB 12.1 MB/s eta 0:00:01\n",
      "   --------------------------------------  101.6/101.6 MB 12.1 MB/s eta 0:00:01\n",
      "   --------------------------------------  101.6/101.6 MB 12.1 MB/s eta 0:00:01\n",
      "   --------------------------------------  101.6/101.6 MB 12.1 MB/s eta 0:00:01\n",
      "   --------------------------------------  101.6/101.6 MB 12.1 MB/s eta 0:00:01\n",
      "   --------------------------------------  101.6/101.6 MB 12.1 MB/s eta 0:00:01\n",
      "   --------------------------------------  101.6/101.6 MB 12.1 MB/s eta 0:00:01\n",
      "   --------------------------------------  101.6/101.6 MB 12.1 MB/s eta 0:00:01\n",
      "   --------------------------------------  101.6/101.6 MB 12.1 MB/s eta 0:00:01\n",
      "   --------------------------------------  101.6/101.6 MB 12.1 MB/s eta 0:00:01\n",
      "   --------------------------------------  101.6/101.6 MB 12.1 MB/s eta 0:00:01\n",
      "   --------------------------------------  101.6/101.6 MB 12.1 MB/s eta 0:00:01\n",
      "   --------------------------------------  101.6/101.6 MB 12.1 MB/s eta 0:00:01\n",
      "   --------------------------------------  101.6/101.6 MB 12.1 MB/s eta 0:00:01\n",
      "   --------------------------------------  101.6/101.6 MB 12.1 MB/s eta 0:00:01\n",
      "   --------------------------------------  101.6/101.6 MB 12.1 MB/s eta 0:00:01\n",
      "   --------------------------------------  101.6/101.6 MB 12.1 MB/s eta 0:00:01\n",
      "   --------------------------------------  101.6/101.6 MB 12.1 MB/s eta 0:00:01\n",
      "   --------------------------------------  101.6/101.6 MB 12.1 MB/s eta 0:00:01\n",
      "   --------------------------------------  101.6/101.6 MB 12.1 MB/s eta 0:00:01\n",
      "   --------------------------------------  101.6/101.6 MB 12.1 MB/s eta 0:00:01\n",
      "   ---------------------------------------- 101.6/101.6 MB 4.7 MB/s eta 0:00:00\n",
      "Installing collected packages: bitsandbytes\n",
      "Successfully installed bitsandbytes-0.43.1\n"
     ]
    }
   ],
   "source": [
    "!pip install huggingface_hub\n",
    "!pip install transformers\n",
    "!pip install accelerate\n",
    "!pip install  bitsandbytes"
   ]
  },
  {
   "cell_type": "markdown",
   "id": "7a149abb-fc41-4d58-baad-c1c502278459",
   "metadata": {},
   "source": [
    "# Step 02: Import All the Required Libraries"
   ]
  },
  {
   "cell_type": "code",
   "execution_count": 2,
   "id": "32dac161-e09a-45af-bc1d-d0b41eae4789",
   "metadata": {},
   "outputs": [],
   "source": [
    "from langchain import PromptTemplate, HuggingFaceHub, LLMChain"
   ]
  },
  {
   "cell_type": "markdown",
   "id": "65746f3b-26fa-43da-934c-faf6774638e9",
   "metadata": {},
   "source": [
    "# Step 03: Setting the Environment"
   ]
  },
  {
   "cell_type": "code",
   "execution_count": 1,
   "id": "ccfc6f53-b3ed-46d9-85ed-54e96423ed40",
   "metadata": {},
   "outputs": [],
   "source": [
    "import os\n",
    "os.environ['HUGGINGFACEHUB_API_TOKEN']=\"\""
   ]
  },
  {
   "cell_type": "markdown",
   "id": "b339998f-edae-4e18-87c5-06d8d70f4b94",
   "metadata": {},
   "source": [
    "### Text2Text Generation Models | Seq2Seq Models | Encoder-Decoder Models"
   ]
  },
  {
   "cell_type": "code",
   "execution_count": 15,
   "id": "bed06318-952c-4178-a284-6c390383fbbb",
   "metadata": {},
   "outputs": [
    {
     "data": {
      "text/plain": [
       "HuggingFaceHub(client=<InferenceClient(model='facebook/mbart-large-50', timeout=None)>, repo_id='facebook/mbart-large-50', task='text2text-generation', model_kwargs={'temperature': 1.5})"
      ]
     },
     "execution_count": 15,
     "metadata": {},
     "output_type": "execute_result"
    }
   ],
   "source": [
    "HuggingFaceHub(repo_id='facebook/mbart-large-50', model_kwargs={'temperature':1.5})"
   ]
  },
  {
   "cell_type": "code",
   "execution_count": 20,
   "id": "6c961a2e-272a-4229-85ee-a853d192f68e",
   "metadata": {},
   "outputs": [],
   "source": [
    "chain = LLMChain(llm=HuggingFaceHub(repo_id='google/flan-t5-large', model_kwargs={'temperature':0}),prompt = prompt)"
   ]
  },
  {
   "cell_type": "code",
   "execution_count": 21,
   "id": "d39321ee-7f8a-4b58-b370-13ade9968587",
   "metadata": {},
   "outputs": [
    {
     "data": {
      "text/plain": [
       "'What is a good name for a company that makes colorful clothes'"
      ]
     },
     "execution_count": 21,
     "metadata": {},
     "output_type": "execute_result"
    }
   ],
   "source": [
    "chain2.run(\"colorful clothes\")"
   ]
  },
  {
   "cell_type": "code",
   "execution_count": 23,
   "id": "453e0317-d860-41b8-8bc7-0523cf207337",
   "metadata": {},
   "outputs": [
    {
     "data": {
      "text/plain": [
       "'What is a good name for a company that makes colorful clothes'"
      ]
     },
     "execution_count": 23,
     "metadata": {},
     "output_type": "execute_result"
    }
   ],
   "source": [
    "chain2.run(\"colorful clothes\")"
   ]
  },
  {
   "cell_type": "markdown",
   "id": "99b69e51-c582-4a65-9312-3c0b6203c7d6",
   "metadata": {},
   "source": [
    "\n",
    "# Text Generation Models | Decoder Only Models"
   ]
  },
  {
   "cell_type": "code",
   "execution_count": null,
   "id": "a9811de8-a69c-4d7a-b24d-0b5652945b19",
   "metadata": {},
   "outputs": [],
   "source": [
    "from langchain.llms import HuggingFacePipeline\n",
    "import torch\n",
    "from transformers import AutoTokenizer, AutoModelForCausalLM, pipeline, AutoModelForSeq2SeqLM\n"
   ]
  },
  {
   "cell_type": "raw",
   "id": "05a1cf4e-6ea7-4eab-9f4a-7532bdb930eb",
   "metadata": {},
   "source": [
    "google/flan-t5-large"
   ]
  },
  {
   "cell_type": "code",
   "execution_count": null,
   "id": "1e0a0efe-22b3-4029-9ae0-0dd6ba3b31ef",
   "metadata": {},
   "outputs": [],
   "source": [
    "model_id='google/flan-t5-large'"
   ]
  },
  {
   "cell_type": "code",
   "execution_count": null,
   "id": "daff644a-8b26-4817-ba37-6e56a95d2cf0",
   "metadata": {},
   "outputs": [],
   "source": [
    "tokenizer=AutoTokenizer.from_pretrained(model_id)"
   ]
  },
  {
   "cell_type": "code",
   "execution_count": null,
   "id": "2b919dc0-dea6-40c9-8884-23f37712581c",
   "metadata": {},
   "outputs": [],
   "source": [
    "model = AutoModelForSeq2SeqLM.from_pretrained(model_id,device_map='auto')"
   ]
  },
  {
   "cell_type": "code",
   "execution_count": null,
   "id": "e514810a-0418-49d5-bdad-c0807c2745d4",
   "metadata": {},
   "outputs": [],
   "source": [
    "pipeline = pipeline(\"text2text-generation\", model=model, tokenizer=tokenizer, max_length=128)"
   ]
  },
  {
   "cell_type": "code",
   "execution_count": null,
   "id": "e2dcf9d9-411e-46e4-a48f-d0272cc3cfd7",
   "metadata": {},
   "outputs": [],
   "source": [
    "local_llm = HuggingFacePipeline(pipeline=pipeline)"
   ]
  },
  {
   "cell_type": "code",
   "execution_count": null,
   "id": "aac9ed44-74ee-45c7-a1ac-83842a6cf1c0",
   "metadata": {},
   "outputs": [],
   "source": [
    "prompt = PromptTemplate(\n",
    "    input_variables=[\"name\"],\n",
    "    template=\"Can you tell me about footballer {name}\"\n",
    ")"
   ]
  },
  {
   "cell_type": "code",
   "execution_count": null,
   "id": "1eb7af53-28e4-4423-b67c-542737fc8172",
   "metadata": {},
   "outputs": [],
   "source": [
    "chain = LLMChain(llm=local_llm,prompt = prompt)"
   ]
  },
  {
   "cell_type": "code",
   "execution_count": null,
   "id": "3d5085d0-f3e2-4ee7-b07d-4274f98a29af",
   "metadata": {},
   "outputs": [],
   "source": [
    "chain.run(\"sunil chetri\")"
   ]
  },
  {
   "cell_type": "code",
   "execution_count": null,
   "id": "e375ac5c-52b7-4409-8c98-4b00f732d2b5",
   "metadata": {},
   "outputs": [],
   "source": [
    "chain.run(\"virat kholi\")"
   ]
  },
  {
   "cell_type": "code",
   "execution_count": null,
   "id": "81465b67-e8c3-4dae-82b8-e83ae4994be4",
   "metadata": {},
   "outputs": [],
   "source": [
    "prompt2 = PromptTemplate(\n",
    "    input_variables=[\"name\"],\n",
    "    template=\"Can you tell me about crickter {name}\"\n",
    ")"
   ]
  },
  {
   "cell_type": "code",
   "execution_count": null,
   "id": "1ea72544-662a-42ea-9840-991a5e383d9a",
   "metadata": {},
   "outputs": [],
   "source": [
    "chain2 = LLMChain(llm=local_llm,prompt = prompt2)"
   ]
  },
  {
   "cell_type": "code",
   "execution_count": null,
   "id": "99171232-48c5-4b99-89e5-de0567e02d65",
   "metadata": {},
   "outputs": [],
   "source": [
    "chain2.run(\"ms dhoni\")"
   ]
  },
  {
   "cell_type": "code",
   "execution_count": null,
   "id": "36df2054-f6c3-464b-aaed-5df5e1a2ce4c",
   "metadata": {},
   "outputs": [],
   "source": [
    "chain2.run(\"virat kholi\")"
   ]
  },
  {
   "cell_type": "code",
   "execution_count": null,
   "id": "04352189-6287-4f4e-8016-f56aef34d736",
   "metadata": {},
   "outputs": [],
   "source": [
    "z"
   ]
  }
 ],
 "metadata": {
  "kernelspec": {
   "display_name": "Python 3 (ipykernel)",
   "language": "python",
   "name": "python3"
  },
  "language_info": {
   "codemirror_mode": {
    "name": "ipython",
    "version": 3
   },
   "file_extension": ".py",
   "mimetype": "text/x-python",
   "name": "python",
   "nbconvert_exporter": "python",
   "pygments_lexer": "ipython3",
   "version": "3.11.4"
  }
 },
 "nbformat": 4,
 "nbformat_minor": 5
}
