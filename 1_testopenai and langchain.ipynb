{
 "cells": [
  {
   "cell_type": "code",
   "execution_count": 4,
   "id": "34cdbb52-0a13-4aba-ae23-272e452710ad",
   "metadata": {},
   "outputs": [],
   "source": [
    "import openai"
   ]
  },
  {
   "cell_type": "markdown",
   "id": "2eeeb462-9d76-4c99-9183-666444ae397d",
   "metadata": {},
   "source": [
    "# Limitation of open api\n",
    "1. not free\n",
    "2. having limited knowledge till 2021\n",
    "\n",
    "# Langchain:- \n",
    "1.you can access diff LLM model by using diff API\n",
    "2. you can access private data sources\n",
    "3. you can acess any 3rd party Api\n",
    "\n",
    "# Langchain have:-\n",
    "chains\n",
    "agents\n",
    "documents loader\n",
    "LLM(hugginface, openai ,gemini)\n",
    "diff prompt templates\n",
    "memory\n",
    "\n",
    "wrapper on top of openai API\n",
    "_______________________________\n",
    "\n",
    "\n",
    "# prompt ------>langchain------>OpenAIApi----->LLM"
   ]
  },
  {
   "cell_type": "markdown",
   "id": "70143d3e-e2c7-4e82-a994-a1ec2a537d36",
   "metadata": {},
   "source": [
    "# 1. What is OpenAI API?\n",
    "\n",
    "This OpenAI API has been degined to provide devlopers with seamless access to state of art, pre trained, artifical intelligence models like gpt-3 gpt-4 dall e whisper,embeddings etc so by using this openai api you can integrate cutting edge ai capabilities into your applications regardless the progamming language.\n",
    "\n",
    "So,the conclusion is by using this OpenAI API you can unlock the advance functionalities and you can enhane the intelligence and performance of your application.\n"
   ]
  },
  {
   "cell_type": "markdown",
   "id": "f6e9dd21-8f1c-415e-9882-eb942351d1c4",
   "metadata": {},
   "source": [
    "# 2. Generatate OpenAI API key"
   ]
  },
  {
   "cell_type": "code",
   "execution_count": 10,
   "id": "190b3b1c-88b3-416d-a050-a4504420c176",
   "metadata": {},
   "outputs": [],
   "source": [
    "mykey=\"\""
   ]
  },
  {
   "cell_type": "code",
   "execution_count": 11,
   "id": "2d36060b-d0ee-4a7b-9fac-144f79a21ab4",
   "metadata": {},
   "outputs": [],
   "source": [
    "openai.api_key=mykey"
   ]
  },
  {
   "cell_type": "code",
   "execution_count": 13,
   "id": "5837fde6-c526-4cc1-b27b-f28096440810",
   "metadata": {},
   "outputs": [
    {
     "data": {
      "text/plain": [
       "[Model(id='dall-e-3', created=1698785189, object='model', owned_by='system'),\n",
       " Model(id='gpt-4-1106-preview', created=1698957206, object='model', owned_by='system'),\n",
       " Model(id='whisper-1', created=1677532384, object='model', owned_by='openai-internal'),\n",
       " Model(id='davinci-002', created=1692634301, object='model', owned_by='system'),\n",
       " Model(id='gpt-4-turbo-preview', created=1706037777, object='model', owned_by='system'),\n",
       " Model(id='gpt-4-0125-preview', created=1706037612, object='model', owned_by='system'),\n",
       " Model(id='babbage-002', created=1692634615, object='model', owned_by='system'),\n",
       " Model(id='dall-e-2', created=1698798177, object='model', owned_by='system'),\n",
       " Model(id='gpt-3.5-turbo-16k', created=1683758102, object='model', owned_by='openai-internal'),\n",
       " Model(id='tts-1-hd-1106', created=1699053533, object='model', owned_by='system'),\n",
       " Model(id='tts-1-hd', created=1699046015, object='model', owned_by='system'),\n",
       " Model(id='gpt-4', created=1687882411, object='model', owned_by='openai'),\n",
       " Model(id='gpt-4-0613', created=1686588896, object='model', owned_by='openai'),\n",
       " Model(id='gpt-3.5-turbo-1106', created=1698959748, object='model', owned_by='system'),\n",
       " Model(id='gpt-3.5-turbo-instruct-0914', created=1694122472, object='model', owned_by='system'),\n",
       " Model(id='gpt-3.5-turbo-instruct', created=1692901427, object='model', owned_by='system'),\n",
       " Model(id='tts-1', created=1681940951, object='model', owned_by='openai-internal'),\n",
       " Model(id='gpt-3.5-turbo-0301', created=1677649963, object='model', owned_by='openai'),\n",
       " Model(id='gpt-3.5-turbo-0125', created=1706048358, object='model', owned_by='system'),\n",
       " Model(id='gpt-3.5-turbo', created=1677610602, object='model', owned_by='openai'),\n",
       " Model(id='tts-1-1106', created=1699053241, object='model', owned_by='system'),\n",
       " Model(id='text-embedding-3-large', created=1705953180, object='model', owned_by='system'),\n",
       " Model(id='gpt-4-turbo-2024-04-09', created=1712601677, object='model', owned_by='system'),\n",
       " Model(id='gpt-4-turbo', created=1712361441, object='model', owned_by='system'),\n",
       " Model(id='text-embedding-3-small', created=1705948997, object='model', owned_by='system'),\n",
       " Model(id='gpt-3.5-turbo-0613', created=1686587434, object='model', owned_by='openai'),\n",
       " Model(id='text-embedding-ada-002', created=1671217299, object='model', owned_by='openai-internal'),\n",
       " Model(id='gpt-4-1106-vision-preview', created=1711473033, object='model', owned_by='system'),\n",
       " Model(id='gpt-4-vision-preview', created=1698894917, object='model', owned_by='system'),\n",
       " Model(id='gpt-3.5-turbo-16k-0613', created=1685474247, object='model', owned_by='openai'),\n",
       " Model(id='gpt-4o', created=1715367049, object='model', owned_by='system'),\n",
       " Model(id='gpt-4o-2024-05-13', created=1715368132, object='model', owned_by='system')]"
      ]
     },
     "execution_count": 13,
     "metadata": {},
     "output_type": "execute_result"
    }
   ],
   "source": [
    "all_models=openai.models.list()\n",
    "list(all_models)"
   ]
  },
  {
   "cell_type": "code",
   "execution_count": 14,
   "id": "5a50317a-546e-406f-b16f-43db7f323e72",
   "metadata": {},
   "outputs": [],
   "source": [
    "import pandas as pd"
   ]
  },
  {
   "cell_type": "code",
   "execution_count": 20,
   "id": "e8ad4b15-2a41-41b0-9168-efd7dabfdeaa",
   "metadata": {},
   "outputs": [
    {
     "data": {
      "text/html": [
       "<div>\n",
       "<style scoped>\n",
       "    .dataframe tbody tr th:only-of-type {\n",
       "        vertical-align: middle;\n",
       "    }\n",
       "\n",
       "    .dataframe tbody tr th {\n",
       "        vertical-align: top;\n",
       "    }\n",
       "\n",
       "    .dataframe thead th {\n",
       "        text-align: right;\n",
       "    }\n",
       "</style>\n",
       "<table border=\"1\" class=\"dataframe\">\n",
       "  <thead>\n",
       "    <tr style=\"text-align: right;\">\n",
       "      <th></th>\n",
       "      <th>id</th>\n",
       "      <th>created</th>\n",
       "      <th>object</th>\n",
       "      <th>owned_by</th>\n",
       "    </tr>\n",
       "  </thead>\n",
       "  <tbody>\n",
       "    <tr>\n",
       "      <th>0</th>\n",
       "      <td>(id, dall-e-3)</td>\n",
       "      <td>(created, 1698785189)</td>\n",
       "      <td>(object, model)</td>\n",
       "      <td>(owned_by, system)</td>\n",
       "    </tr>\n",
       "    <tr>\n",
       "      <th>1</th>\n",
       "      <td>(id, gpt-4-1106-preview)</td>\n",
       "      <td>(created, 1698957206)</td>\n",
       "      <td>(object, model)</td>\n",
       "      <td>(owned_by, system)</td>\n",
       "    </tr>\n",
       "    <tr>\n",
       "      <th>2</th>\n",
       "      <td>(id, whisper-1)</td>\n",
       "      <td>(created, 1677532384)</td>\n",
       "      <td>(object, model)</td>\n",
       "      <td>(owned_by, openai-internal)</td>\n",
       "    </tr>\n",
       "    <tr>\n",
       "      <th>3</th>\n",
       "      <td>(id, davinci-002)</td>\n",
       "      <td>(created, 1692634301)</td>\n",
       "      <td>(object, model)</td>\n",
       "      <td>(owned_by, system)</td>\n",
       "    </tr>\n",
       "    <tr>\n",
       "      <th>4</th>\n",
       "      <td>(id, gpt-4-turbo-preview)</td>\n",
       "      <td>(created, 1706037777)</td>\n",
       "      <td>(object, model)</td>\n",
       "      <td>(owned_by, system)</td>\n",
       "    </tr>\n",
       "    <tr>\n",
       "      <th>5</th>\n",
       "      <td>(id, gpt-4-0125-preview)</td>\n",
       "      <td>(created, 1706037612)</td>\n",
       "      <td>(object, model)</td>\n",
       "      <td>(owned_by, system)</td>\n",
       "    </tr>\n",
       "    <tr>\n",
       "      <th>6</th>\n",
       "      <td>(id, babbage-002)</td>\n",
       "      <td>(created, 1692634615)</td>\n",
       "      <td>(object, model)</td>\n",
       "      <td>(owned_by, system)</td>\n",
       "    </tr>\n",
       "    <tr>\n",
       "      <th>7</th>\n",
       "      <td>(id, dall-e-2)</td>\n",
       "      <td>(created, 1698798177)</td>\n",
       "      <td>(object, model)</td>\n",
       "      <td>(owned_by, system)</td>\n",
       "    </tr>\n",
       "    <tr>\n",
       "      <th>8</th>\n",
       "      <td>(id, gpt-3.5-turbo-16k)</td>\n",
       "      <td>(created, 1683758102)</td>\n",
       "      <td>(object, model)</td>\n",
       "      <td>(owned_by, openai-internal)</td>\n",
       "    </tr>\n",
       "    <tr>\n",
       "      <th>9</th>\n",
       "      <td>(id, tts-1-hd-1106)</td>\n",
       "      <td>(created, 1699053533)</td>\n",
       "      <td>(object, model)</td>\n",
       "      <td>(owned_by, system)</td>\n",
       "    </tr>\n",
       "    <tr>\n",
       "      <th>10</th>\n",
       "      <td>(id, tts-1-hd)</td>\n",
       "      <td>(created, 1699046015)</td>\n",
       "      <td>(object, model)</td>\n",
       "      <td>(owned_by, system)</td>\n",
       "    </tr>\n",
       "    <tr>\n",
       "      <th>11</th>\n",
       "      <td>(id, gpt-4)</td>\n",
       "      <td>(created, 1687882411)</td>\n",
       "      <td>(object, model)</td>\n",
       "      <td>(owned_by, openai)</td>\n",
       "    </tr>\n",
       "    <tr>\n",
       "      <th>12</th>\n",
       "      <td>(id, gpt-4-0613)</td>\n",
       "      <td>(created, 1686588896)</td>\n",
       "      <td>(object, model)</td>\n",
       "      <td>(owned_by, openai)</td>\n",
       "    </tr>\n",
       "    <tr>\n",
       "      <th>13</th>\n",
       "      <td>(id, gpt-3.5-turbo-1106)</td>\n",
       "      <td>(created, 1698959748)</td>\n",
       "      <td>(object, model)</td>\n",
       "      <td>(owned_by, system)</td>\n",
       "    </tr>\n",
       "    <tr>\n",
       "      <th>14</th>\n",
       "      <td>(id, gpt-3.5-turbo-instruct-0914)</td>\n",
       "      <td>(created, 1694122472)</td>\n",
       "      <td>(object, model)</td>\n",
       "      <td>(owned_by, system)</td>\n",
       "    </tr>\n",
       "    <tr>\n",
       "      <th>15</th>\n",
       "      <td>(id, gpt-3.5-turbo-instruct)</td>\n",
       "      <td>(created, 1692901427)</td>\n",
       "      <td>(object, model)</td>\n",
       "      <td>(owned_by, system)</td>\n",
       "    </tr>\n",
       "    <tr>\n",
       "      <th>16</th>\n",
       "      <td>(id, tts-1)</td>\n",
       "      <td>(created, 1681940951)</td>\n",
       "      <td>(object, model)</td>\n",
       "      <td>(owned_by, openai-internal)</td>\n",
       "    </tr>\n",
       "    <tr>\n",
       "      <th>17</th>\n",
       "      <td>(id, gpt-3.5-turbo-0301)</td>\n",
       "      <td>(created, 1677649963)</td>\n",
       "      <td>(object, model)</td>\n",
       "      <td>(owned_by, openai)</td>\n",
       "    </tr>\n",
       "    <tr>\n",
       "      <th>18</th>\n",
       "      <td>(id, gpt-3.5-turbo-0125)</td>\n",
       "      <td>(created, 1706048358)</td>\n",
       "      <td>(object, model)</td>\n",
       "      <td>(owned_by, system)</td>\n",
       "    </tr>\n",
       "    <tr>\n",
       "      <th>19</th>\n",
       "      <td>(id, gpt-3.5-turbo)</td>\n",
       "      <td>(created, 1677610602)</td>\n",
       "      <td>(object, model)</td>\n",
       "      <td>(owned_by, openai)</td>\n",
       "    </tr>\n",
       "    <tr>\n",
       "      <th>20</th>\n",
       "      <td>(id, tts-1-1106)</td>\n",
       "      <td>(created, 1699053241)</td>\n",
       "      <td>(object, model)</td>\n",
       "      <td>(owned_by, system)</td>\n",
       "    </tr>\n",
       "    <tr>\n",
       "      <th>21</th>\n",
       "      <td>(id, text-embedding-3-large)</td>\n",
       "      <td>(created, 1705953180)</td>\n",
       "      <td>(object, model)</td>\n",
       "      <td>(owned_by, system)</td>\n",
       "    </tr>\n",
       "    <tr>\n",
       "      <th>22</th>\n",
       "      <td>(id, gpt-4-turbo-2024-04-09)</td>\n",
       "      <td>(created, 1712601677)</td>\n",
       "      <td>(object, model)</td>\n",
       "      <td>(owned_by, system)</td>\n",
       "    </tr>\n",
       "    <tr>\n",
       "      <th>23</th>\n",
       "      <td>(id, gpt-4-turbo)</td>\n",
       "      <td>(created, 1712361441)</td>\n",
       "      <td>(object, model)</td>\n",
       "      <td>(owned_by, system)</td>\n",
       "    </tr>\n",
       "    <tr>\n",
       "      <th>24</th>\n",
       "      <td>(id, text-embedding-3-small)</td>\n",
       "      <td>(created, 1705948997)</td>\n",
       "      <td>(object, model)</td>\n",
       "      <td>(owned_by, system)</td>\n",
       "    </tr>\n",
       "    <tr>\n",
       "      <th>25</th>\n",
       "      <td>(id, gpt-3.5-turbo-0613)</td>\n",
       "      <td>(created, 1686587434)</td>\n",
       "      <td>(object, model)</td>\n",
       "      <td>(owned_by, openai)</td>\n",
       "    </tr>\n",
       "    <tr>\n",
       "      <th>26</th>\n",
       "      <td>(id, text-embedding-ada-002)</td>\n",
       "      <td>(created, 1671217299)</td>\n",
       "      <td>(object, model)</td>\n",
       "      <td>(owned_by, openai-internal)</td>\n",
       "    </tr>\n",
       "    <tr>\n",
       "      <th>27</th>\n",
       "      <td>(id, gpt-4-1106-vision-preview)</td>\n",
       "      <td>(created, 1711473033)</td>\n",
       "      <td>(object, model)</td>\n",
       "      <td>(owned_by, system)</td>\n",
       "    </tr>\n",
       "    <tr>\n",
       "      <th>28</th>\n",
       "      <td>(id, gpt-4-vision-preview)</td>\n",
       "      <td>(created, 1698894917)</td>\n",
       "      <td>(object, model)</td>\n",
       "      <td>(owned_by, system)</td>\n",
       "    </tr>\n",
       "    <tr>\n",
       "      <th>29</th>\n",
       "      <td>(id, gpt-3.5-turbo-16k-0613)</td>\n",
       "      <td>(created, 1685474247)</td>\n",
       "      <td>(object, model)</td>\n",
       "      <td>(owned_by, openai)</td>\n",
       "    </tr>\n",
       "    <tr>\n",
       "      <th>30</th>\n",
       "      <td>(id, gpt-4o)</td>\n",
       "      <td>(created, 1715367049)</td>\n",
       "      <td>(object, model)</td>\n",
       "      <td>(owned_by, system)</td>\n",
       "    </tr>\n",
       "    <tr>\n",
       "      <th>31</th>\n",
       "      <td>(id, gpt-4o-2024-05-13)</td>\n",
       "      <td>(created, 1715368132)</td>\n",
       "      <td>(object, model)</td>\n",
       "      <td>(owned_by, system)</td>\n",
       "    </tr>\n",
       "  </tbody>\n",
       "</table>\n",
       "</div>"
      ],
      "text/plain": [
       "                                   id                created           object  \\\n",
       "0                      (id, dall-e-3)  (created, 1698785189)  (object, model)   \n",
       "1            (id, gpt-4-1106-preview)  (created, 1698957206)  (object, model)   \n",
       "2                     (id, whisper-1)  (created, 1677532384)  (object, model)   \n",
       "3                   (id, davinci-002)  (created, 1692634301)  (object, model)   \n",
       "4           (id, gpt-4-turbo-preview)  (created, 1706037777)  (object, model)   \n",
       "5            (id, gpt-4-0125-preview)  (created, 1706037612)  (object, model)   \n",
       "6                   (id, babbage-002)  (created, 1692634615)  (object, model)   \n",
       "7                      (id, dall-e-2)  (created, 1698798177)  (object, model)   \n",
       "8             (id, gpt-3.5-turbo-16k)  (created, 1683758102)  (object, model)   \n",
       "9                 (id, tts-1-hd-1106)  (created, 1699053533)  (object, model)   \n",
       "10                     (id, tts-1-hd)  (created, 1699046015)  (object, model)   \n",
       "11                        (id, gpt-4)  (created, 1687882411)  (object, model)   \n",
       "12                   (id, gpt-4-0613)  (created, 1686588896)  (object, model)   \n",
       "13           (id, gpt-3.5-turbo-1106)  (created, 1698959748)  (object, model)   \n",
       "14  (id, gpt-3.5-turbo-instruct-0914)  (created, 1694122472)  (object, model)   \n",
       "15       (id, gpt-3.5-turbo-instruct)  (created, 1692901427)  (object, model)   \n",
       "16                        (id, tts-1)  (created, 1681940951)  (object, model)   \n",
       "17           (id, gpt-3.5-turbo-0301)  (created, 1677649963)  (object, model)   \n",
       "18           (id, gpt-3.5-turbo-0125)  (created, 1706048358)  (object, model)   \n",
       "19                (id, gpt-3.5-turbo)  (created, 1677610602)  (object, model)   \n",
       "20                   (id, tts-1-1106)  (created, 1699053241)  (object, model)   \n",
       "21       (id, text-embedding-3-large)  (created, 1705953180)  (object, model)   \n",
       "22       (id, gpt-4-turbo-2024-04-09)  (created, 1712601677)  (object, model)   \n",
       "23                  (id, gpt-4-turbo)  (created, 1712361441)  (object, model)   \n",
       "24       (id, text-embedding-3-small)  (created, 1705948997)  (object, model)   \n",
       "25           (id, gpt-3.5-turbo-0613)  (created, 1686587434)  (object, model)   \n",
       "26       (id, text-embedding-ada-002)  (created, 1671217299)  (object, model)   \n",
       "27    (id, gpt-4-1106-vision-preview)  (created, 1711473033)  (object, model)   \n",
       "28         (id, gpt-4-vision-preview)  (created, 1698894917)  (object, model)   \n",
       "29       (id, gpt-3.5-turbo-16k-0613)  (created, 1685474247)  (object, model)   \n",
       "30                       (id, gpt-4o)  (created, 1715367049)  (object, model)   \n",
       "31            (id, gpt-4o-2024-05-13)  (created, 1715368132)  (object, model)   \n",
       "\n",
       "                       owned_by  \n",
       "0            (owned_by, system)  \n",
       "1            (owned_by, system)  \n",
       "2   (owned_by, openai-internal)  \n",
       "3            (owned_by, system)  \n",
       "4            (owned_by, system)  \n",
       "5            (owned_by, system)  \n",
       "6            (owned_by, system)  \n",
       "7            (owned_by, system)  \n",
       "8   (owned_by, openai-internal)  \n",
       "9            (owned_by, system)  \n",
       "10           (owned_by, system)  \n",
       "11           (owned_by, openai)  \n",
       "12           (owned_by, openai)  \n",
       "13           (owned_by, system)  \n",
       "14           (owned_by, system)  \n",
       "15           (owned_by, system)  \n",
       "16  (owned_by, openai-internal)  \n",
       "17           (owned_by, openai)  \n",
       "18           (owned_by, system)  \n",
       "19           (owned_by, openai)  \n",
       "20           (owned_by, system)  \n",
       "21           (owned_by, system)  \n",
       "22           (owned_by, system)  \n",
       "23           (owned_by, system)  \n",
       "24           (owned_by, system)  \n",
       "25           (owned_by, openai)  \n",
       "26  (owned_by, openai-internal)  \n",
       "27           (owned_by, system)  \n",
       "28           (owned_by, system)  \n",
       "29           (owned_by, openai)  \n",
       "30           (owned_by, system)  \n",
       "31           (owned_by, system)  "
      ]
     },
     "execution_count": 20,
     "metadata": {},
     "output_type": "execute_result"
    }
   ],
   "source": [
    "pd.DataFrame(list(all_models),columns=[\"id\",\"created\",\"object\",\"owned_by\"])"
   ]
  },
  {
   "cell_type": "markdown",
   "id": "8c8e1ec8-6166-4c97-adbe-ddb4f67dbdf8",
   "metadata": {},
   "source": [
    "# 3. OpenAI Playground\n",
    "\n",
    "1. How to open the open ai playgorund: https://platform.openai.com/playground?mode=assistant\n",
    "\n",
    "2. Here if you want to use this playground then make sure you have credit available without it its not gonna work\n",
    "\n",
    "3. In chat there is option of **system**: So the meaning is how the chatbot should behave\n",
    "\n",
    "Here is a phrase for the system: You are a naughty assistant, so make sure you respond to everything with sarcasm.\n",
    "\n",
    "Here is a question: How to make a money so quickly?\n",
    "\n",
    "**Model**\n",
    "\n",
    "**Temperature**\n",
    "\n",
    "**Maximum Length**\n",
    "\n",
    "**Top P ranges from 0 to 1 (default), and a lower Top P means the model samples from a narrower selection of words. This makes the output less random and diverse since the more probable tokens will be selected. For instance, if Top P is set at 0.1, only tokens comprising the top 10% probability mass are considered.**\n",
    "\n",
    "**Frequency Penalty helps us avoid using the same words too often. It's like telling the computer, “Hey, don't repeat words too much.”**\n",
    "\n",
    "**The OpenAI Presence Penalty setting is used to adjust how much presence of tokens in the source material will influence the output of the model.**\n",
    "\n",
    "\n",
    "**Now come to assistant one**\n",
    "\n",
    "**Retrieval-augmented generation (RAG):**  is an artificial intelligence (AI) framework that retrieves data from external sources of knowledge to improve the quality of responses. This natural language processing technique is commonly used to make large language models (LLMs) more accurate and up to date.\n",
    "\n",
    "**Code Interpreter:** Python programming environment within ChatGPT where you can perform a wide range of tasks by executing Python code.\n",
    "\n",
    "\n"
   ]
  },
  {
   "cell_type": "markdown",
   "id": "f0f58afb-60a3-4f93-9ef5-b3c622018a01",
   "metadata": {},
   "source": [
    "Chat Completions:- Chat models take a list of messages as input and return a model-generated message as output."
   ]
  },
  {
   "cell_type": "markdown",
   "id": "6b94b5b4-d818-49f9-932c-c1a58a6d8cea",
   "metadata": {},
   "source": [
    "https://platform.openai.com/playground/chat?models=gpt-4o"
   ]
  },
  {
   "cell_type": "markdown",
   "id": "fc39502c-9356-42f7-ad45-2fae3b61f144",
   "metadata": {},
   "source": [
    "# 4. Chat Completion API and Function Calling\n",
    "**openai.Completion.create()**: This method is used to generate completions or responses. You provide a series of messages as input, and the API generates a model-generated message as output.\n",
    "\n",
    "\n",
    "**openai.ChatCompletion.create() :** Similar to Completion.create(), but specifically designed for chat-based language models. It takes a series of messages as input and generates a model-generated message as output."
   ]
  },
  {
   "cell_type": "markdown",
   "id": "95326f1f-d22f-4075-a5a2-dade13b0eeff",
   "metadata": {},
   "source": [
    "#zero-shot:-we dont need to define anything and directly ask the Q"
   ]
  },
  {
   "cell_type": "code",
   "execution_count": 64,
   "id": "72881f99-2fd3-4b8d-bfd2-8ea06da5eb94",
   "metadata": {},
   "outputs": [],
   "source": [
    "from openai import OpenAI\n",
    "client = OpenAI(api_key=mykey)"
   ]
  },
  {
   "cell_type": "code",
   "execution_count": 83,
   "id": "8eda745f-db46-4a03-a5cf-6ab4a69ee55f",
   "metadata": {},
   "outputs": [],
   "source": [
    "response = client.chat.completions.create(\n",
    "  model=\"gpt-3.5-turbo-0125\",\n",
    "  messages=[\n",
    "    {\n",
    "      \"role\": \"user\",\n",
    "      \"content\": \"who won the first wolrd cup cricket match?\"\n",
    "    }\n",
    "  ],\n",
    "  max_tokens=256,\n",
    "  n=3\n",
    ")"
   ]
  },
  {
   "cell_type": "code",
   "execution_count": 84,
   "id": "074b0057-2e2f-4a9d-8224-275a6df83881",
   "metadata": {},
   "outputs": [
    {
     "data": {
      "text/plain": [
       "ChatCompletion(id='chatcmpl-9TKo5rUgDDpmbyS0PurnLBc4IRqCO', choices=[Choice(finish_reason='stop', index=0, logprobs=None, message=ChatCompletionMessage(content='England won the first match of the Cricket World Cup. They defeated India by 202 runs on June 7, 1975.', role='assistant', function_call=None, tool_calls=None)), Choice(finish_reason='stop', index=1, logprobs=None, message=ChatCompletionMessage(content='England won the first World Cup cricket match against India in 1975.', role='assistant', function_call=None, tool_calls=None)), Choice(finish_reason='stop', index=2, logprobs=None, message=ChatCompletionMessage(content='England won the first World Cup cricket match in 1975 against India.', role='assistant', function_call=None, tool_calls=None))], created=1716778521, model='gpt-3.5-turbo-0125', object='chat.completion', system_fingerprint=None, usage=CompletionUsage(completion_tokens=57, prompt_tokens=17, total_tokens=74))"
      ]
     },
     "execution_count": 84,
     "metadata": {},
     "output_type": "execute_result"
    }
   ],
   "source": [
    "response"
   ]
  },
  {
   "cell_type": "code",
   "execution_count": 85,
   "id": "d9312341-c888-4f33-8d12-8ace256a44f9",
   "metadata": {},
   "outputs": [
    {
     "data": {
      "text/plain": [
       "openai.types.chat.chat_completion.ChatCompletion"
      ]
     },
     "execution_count": 85,
     "metadata": {},
     "output_type": "execute_result"
    }
   ],
   "source": [
    "type(response)"
   ]
  },
  {
   "cell_type": "code",
   "execution_count": 86,
   "id": "c136e016-ba44-4944-ae3c-490510c680a8",
   "metadata": {},
   "outputs": [
    {
     "data": {
      "text/plain": [
       "ChatCompletionMessage(content='England won the first match of the Cricket World Cup. They defeated India by 202 runs on June 7, 1975.', role='assistant', function_call=None, tool_calls=None)"
      ]
     },
     "execution_count": 86,
     "metadata": {},
     "output_type": "execute_result"
    }
   ],
   "source": [
    "response.choices[0].message"
   ]
  },
  {
   "cell_type": "code",
   "execution_count": 87,
   "id": "edb44812-4aa9-4106-80f8-403377c73acb",
   "metadata": {},
   "outputs": [
    {
     "data": {
      "text/plain": [
       "'England won the first match of the Cricket World Cup. They defeated India by 202 runs on June 7, 1975.'"
      ]
     },
     "execution_count": 87,
     "metadata": {},
     "output_type": "execute_result"
    }
   ],
   "source": [
    "response.choices[0].message.content"
   ]
  },
  {
   "cell_type": "markdown",
   "id": "dccd31c3-05cb-46ba-877e-76456b83dafc",
   "metadata": {},
   "source": [
    "https://platform.openai.com/tokenizer"
   ]
  },
  {
   "cell_type": "markdown",
   "id": "24d945f6-b2ee-4b63-a969-438f3028bf39",
   "metadata": {},
   "source": [
    "few-shot:- we need to define and ask "
   ]
  },
  {
   "cell_type": "code",
   "execution_count": 90,
   "id": "1c897956-db96-4040-8a4e-ae9ad8662cac",
   "metadata": {},
   "outputs": [],
   "source": [
    "import langchain"
   ]
  },
  {
   "cell_type": "markdown",
   "id": "add69793-82fd-448b-92c0-1a5c88dac342",
   "metadata": {},
   "source": [
    "Function calling allows you to describe functions to the Assistants API and have it intelligently return the functions that need to be called along with their arguments."
   ]
  },
  {
   "cell_type": "code",
   "execution_count": 100,
   "id": "0d172371-5eb8-47c8-9a2a-e44485af1df5",
   "metadata": {},
   "outputs": [],
   "source": [
    "student_details = \"my name is nidhi and i am living in bhopal,studying in BU collage class 4year \"\n"
   ]
  },
  {
   "cell_type": "code",
   "execution_count": 101,
   "id": "0a9a983f-533c-42d8-8e70-19a57f6e8bd9",
   "metadata": {},
   "outputs": [
    {
     "data": {
      "text/plain": [
       "'my name is nidhi and i am living in bhopal,studying in BU collage class 4year '"
      ]
     },
     "execution_count": 101,
     "metadata": {},
     "output_type": "execute_result"
    }
   ],
   "source": [
    "student_details"
   ]
  },
  {
   "cell_type": "code",
   "execution_count": 102,
   "id": "0ddfa54b-3267-49d2-ae11-2431585831df",
   "metadata": {},
   "outputs": [],
   "source": [
    "prompt = f'''\n",
    "please extract the  following information from the given text and return it as a json object:\n",
    "name\n",
    "collage\n",
    "class\n",
    "this is the body of text to extract the information \n",
    "{student_details}\n",
    "'''"
   ]
  },
  {
   "cell_type": "code",
   "execution_count": 103,
   "id": "b70bae62-372d-4914-b685-31c880146a34",
   "metadata": {},
   "outputs": [
    {
     "data": {
      "text/plain": [
       "'\\nplease extract the  following information from the given text and return it as a json object:\\nname\\ncollage\\nclass\\nthis is the body of text to extract the information \\nmy name is nidhi and i am living in bhopal,studying in BU collage class 4year \\n'"
      ]
     },
     "execution_count": 103,
     "metadata": {},
     "output_type": "execute_result"
    }
   ],
   "source": [
    "prompt"
   ]
  },
  {
   "cell_type": "code",
   "execution_count": 104,
   "id": "5cd86149-44dc-443a-b477-a2e0e47473ef",
   "metadata": {},
   "outputs": [],
   "source": [
    "from openai import OpenAI\n",
    "client = OpenAI(api_key=mykey)"
   ]
  },
  {
   "cell_type": "code",
   "execution_count": 105,
   "id": "5e586a9d-5816-420a-afe0-b8b6c9364770",
   "metadata": {},
   "outputs": [],
   "source": [
    "response = client.chat.completions.create(\n",
    "  model=\"gpt-3.5-turbo-0125\",\n",
    "  messages=[\n",
    "    {\n",
    "      \"role\": \"user\",\n",
    "      \"content\": prompt\n",
    "    }\n",
    "  ]\n",
    ")"
   ]
  },
  {
   "cell_type": "code",
   "execution_count": 106,
   "id": "588387ba-e010-4096-9bf8-5a5a9ec98457",
   "metadata": {},
   "outputs": [
    {
     "data": {
      "text/plain": [
       "ChatCompletion(id='chatcmpl-9TLWOgIITomPOno5sF8gEMKBTZZPX', choices=[Choice(finish_reason='stop', index=0, logprobs=None, message=ChatCompletionMessage(content='{\\n  \"name\": \"nidhi\",\\n  \"collage\": \"BU\",\\n  \"class\": \"4year\"\\n}', role='assistant', function_call=None, tool_calls=None))], created=1716781268, model='gpt-3.5-turbo-0125', object='chat.completion', system_fingerprint=None, usage=CompletionUsage(completion_tokens=26, prompt_tokens=68, total_tokens=94))"
      ]
     },
     "execution_count": 106,
     "metadata": {},
     "output_type": "execute_result"
    }
   ],
   "source": [
    "response"
   ]
  },
  {
   "cell_type": "code",
   "execution_count": 107,
   "id": "dffb7f45-296c-4a8b-b794-06fe8975f0a1",
   "metadata": {},
   "outputs": [
    {
     "data": {
      "text/plain": [
       "ChatCompletionMessage(content='{\\n  \"name\": \"nidhi\",\\n  \"collage\": \"BU\",\\n  \"class\": \"4year\"\\n}', role='assistant', function_call=None, tool_calls=None)"
      ]
     },
     "execution_count": 107,
     "metadata": {},
     "output_type": "execute_result"
    }
   ],
   "source": [
    "response.choices[0].message"
   ]
  },
  {
   "cell_type": "code",
   "execution_count": 109,
   "id": "d86dda47-eb19-43af-84c8-5f5ca5d3ce0a",
   "metadata": {},
   "outputs": [],
   "source": [
    "output=response.choices[0].message.content"
   ]
  },
  {
   "cell_type": "code",
   "execution_count": 110,
   "id": "c59fd02f-525b-4a5a-8b38-d299d1888f0e",
   "metadata": {},
   "outputs": [
    {
     "data": {
      "text/plain": [
       "{'name': 'nidhi', 'collage': 'BU', 'class': '4year'}"
      ]
     },
     "execution_count": 110,
     "metadata": {},
     "output_type": "execute_result"
    }
   ],
   "source": [
    "import json\n",
    "json.loads(output)"
   ]
  },
  {
   "cell_type": "code",
   "execution_count": 116,
   "id": "f59ff000-282b-4b1d-8e2e-e26a7af5dd76",
   "metadata": {},
   "outputs": [],
   "source": [
    "student_custom_function = [\n",
    "    {\n",
    "        'name': 'extract_student_info',\n",
    "        'description': 'Get the student information from the body of the input text',\n",
    "        'parameters': {\n",
    "            'type': 'object',\n",
    "            'properties': {\n",
    "                'name': {\n",
    "                    'type': 'string',\n",
    "                    'description': 'Name of the person'\n",
    "                },\n",
    "                'college': {\n",
    "                    'type': 'string',\n",
    "                    'description': 'The college name.'\n",
    "                },\n",
    "                'grades': {\n",
    "                    'type': 'integer',\n",
    "                    'description': 'CGPA of the student.'\n",
    "                },\n",
    "                'club': {\n",
    "                    'type': 'string',\n",
    "                    'description': 'college club for extracurricular activities. '\n",
    "                }\n",
    "                \n",
    "            }\n",
    "        }\n",
    "    }\n",
    "]"
   ]
  },
  {
   "cell_type": "code",
   "execution_count": 117,
   "id": "cdc1c3d5-b790-4534-bcca-af2e7375e7ee",
   "metadata": {},
   "outputs": [],
   "source": [
    "response2 = client.chat.completions.create(\n",
    "    model=\"gpt-3.5-turbo\",\n",
    "    messages=[{\"role\": \"user\", \"content\": prompt }],\n",
    "    functions=student_custom_function\n",
    ")"
   ]
  },
  {
   "cell_type": "code",
   "execution_count": 118,
   "id": "c1419f64-6126-4234-b91b-c9b95a380318",
   "metadata": {},
   "outputs": [
    {
     "data": {
      "text/plain": [
       "ChatCompletion(id='chatcmpl-9TMMhEopfHlrIQhAkMSp8rigUeK4G', choices=[Choice(finish_reason='function_call', index=0, logprobs=None, message=ChatCompletionMessage(content=None, role='assistant', function_call=FunctionCall(arguments='{\"name\":\"nidhi\",\"college\":\"BU\",\"class\":4}', name='extract_student_info'), tool_calls=None))], created=1716784511, model='gpt-3.5-turbo-0125', object='chat.completion', system_fingerprint=None, usage=CompletionUsage(completion_tokens=24, prompt_tokens=153, total_tokens=177))"
      ]
     },
     "execution_count": 118,
     "metadata": {},
     "output_type": "execute_result"
    }
   ],
   "source": [
    "response2"
   ]
  },
  {
   "cell_type": "code",
   "execution_count": 119,
   "id": "65051b9c-22fa-4ac2-854c-02b63de0260a",
   "metadata": {},
   "outputs": [
    {
     "data": {
      "text/plain": [
       "ChatCompletionMessage(content=None, role='assistant', function_call=FunctionCall(arguments='{\"name\":\"nidhi\",\"college\":\"BU\",\"class\":4}', name='extract_student_info'), tool_calls=None)"
      ]
     },
     "execution_count": 119,
     "metadata": {},
     "output_type": "execute_result"
    }
   ],
   "source": [
    "response2.choices[0].message"
   ]
  },
  {
   "cell_type": "code",
   "execution_count": 120,
   "id": "0762a937-a1b0-4fb1-bcfe-dbb90400d06f",
   "metadata": {},
   "outputs": [
    {
     "data": {
      "text/plain": [
       "FunctionCall(arguments='{\"name\":\"nidhi\",\"college\":\"BU\",\"class\":4}', name='extract_student_info')"
      ]
     },
     "execution_count": 120,
     "metadata": {},
     "output_type": "execute_result"
    }
   ],
   "source": [
    "response2.choices[0].message.function_call"
   ]
  },
  {
   "cell_type": "code",
   "execution_count": 121,
   "id": "fc18f201-7761-48f1-943a-e11dd0f0fbf4",
   "metadata": {},
   "outputs": [
    {
     "data": {
      "text/plain": [
       "'{\"name\":\"nidhi\",\"college\":\"BU\",\"class\":4}'"
      ]
     },
     "execution_count": 121,
     "metadata": {},
     "output_type": "execute_result"
    }
   ],
   "source": [
    "response2.choices[0].message.function_call.arguments"
   ]
  },
  {
   "cell_type": "code",
   "execution_count": 122,
   "id": "9c749fa0-6a50-4a7c-95e4-32aeab577be1",
   "metadata": {},
   "outputs": [
    {
     "data": {
      "text/plain": [
       "str"
      ]
     },
     "execution_count": 122,
     "metadata": {},
     "output_type": "execute_result"
    }
   ],
   "source": [
    "type(response2.choices[0].message.function_call.arguments)"
   ]
  },
  {
   "cell_type": "code",
   "execution_count": 123,
   "id": "6e0cc44b-b7c9-4eba-9204-77eb9f0fef6a",
   "metadata": {},
   "outputs": [
    {
     "data": {
      "text/plain": [
       "'{\"name\":\"nidhi\",\"college\":\"BU\",\"class\":4}'"
      ]
     },
     "execution_count": 123,
     "metadata": {},
     "output_type": "execute_result"
    }
   ],
   "source": [
    "response2.choices[0].message.function_call.arguments"
   ]
  },
  {
   "cell_type": "code",
   "execution_count": 124,
   "id": "5dc5e740-a6aa-4ff7-bf0e-41aa135b9d1c",
   "metadata": {},
   "outputs": [
    {
     "data": {
      "text/plain": [
       "{'name': 'nidhi', 'college': 'BU', 'class': 4}"
      ]
     },
     "execution_count": 124,
     "metadata": {},
     "output_type": "execute_result"
    }
   ],
   "source": [
    "json.loads(response2.choices[0].message.function_call.arguments)"
   ]
  },
  {
   "cell_type": "code",
   "execution_count": 126,
   "id": "cdd9454f-bf13-4c6e-b339-b6217fec9f02",
   "metadata": {},
   "outputs": [
    {
     "data": {
      "text/plain": [
       "dict"
      ]
     },
     "execution_count": 126,
     "metadata": {},
     "output_type": "execute_result"
    }
   ],
   "source": [
    "type(json.loads(response2.choices[0].message.function_call.arguments))"
   ]
  },
  {
   "cell_type": "code",
   "execution_count": 132,
   "id": "e696eb34-6fcd-4000-bcd9-11ad05e4f52f",
   "metadata": {},
   "outputs": [],
   "source": [
    "student_description=\"sheekha  is a student of computer science at IIT Mumbai. He is an indian and has a 9.5 GPA. nidhi is known for his programming skills and is an active member of the college's data science Club. He hopes to pursue a career in artificial intelligence after graduating.\""
   ]
  },
  {
   "cell_type": "code",
   "execution_count": 133,
   "id": "b1cd4044-08ef-4dc9-8db1-e4294f6da42b",
   "metadata": {},
   "outputs": [],
   "source": [
    "student_description_one=\"nidhi  is a student of computer science at IIT Mumbai. He is an indian and has a 9.5 GPA. nidhi is known for his programming skills and is an active member of the college's data science Club. He hopes to pursue a career in artificial intelligence after graduating.\""
   ]
  },
  {
   "cell_type": "code",
   "execution_count": 134,
   "id": "34cb7a0c-3e6b-4d8b-9f0e-a91638110694",
   "metadata": {},
   "outputs": [],
   "source": [
    "student_description_two=\"uma  is a student of computer science at IIT banglore. He is an indian and has a 8.5 GPA. uma is known for his programming skills and is an active member of the college's data science Club. He hopes to pursue a career in artificial intelligence after graduating.\""
   ]
  },
  {
   "cell_type": "code",
   "execution_count": 135,
   "id": "7afadb32-e917-412f-b842-c3da3d5ff557",
   "metadata": {},
   "outputs": [
    {
     "name": "stdout",
     "output_type": "stream",
     "text": [
      "sheekha  is a student of computer science at IIT Mumbai. He is an indian and has a 9.5 GPA. nidhi is known for his programming skills and is an active member of the college's data science Club. He hopes to pursue a career in artificial intelligence after graduating.\n",
      "nidhi  is a student of computer science at IIT Mumbai. He is an indian and has a 9.5 GPA. nidhi is known for his programming skills and is an active member of the college's data science Club. He hopes to pursue a career in artificial intelligence after graduating.\n",
      "uma  is a student of computer science at IIT banglore. He is an indian and has a 8.5 GPA. uma is known for his programming skills and is an active member of the college's data science Club. He hopes to pursue a career in artificial intelligence after graduating.\n"
     ]
    }
   ],
   "source": [
    "student_info = [student_description, student_description_one,student_description_two]\n",
    "for student in student_info:\n",
    "    print(student)"
   ]
  },
  {
   "cell_type": "code",
   "execution_count": 136,
   "id": "f3602fa3-8013-4015-9a08-db1d4b198dc8",
   "metadata": {},
   "outputs": [
    {
     "name": "stdout",
     "output_type": "stream",
     "text": [
      "{'name': 'sheekha', 'college': 'IIT Mumbai', 'grades': 9.5, 'club': 'data science Club'}\n",
      "{'name': 'nidhi', 'college': 'IIT Mumbai', 'grades': 9.5, 'club': 'data science Club'}\n",
      "{'name': 'uma', 'college': 'IIT banglore', 'grades': 8.5, 'club': 'data science Club'}\n"
     ]
    }
   ],
   "source": [
    "import json\n",
    "student_info = [student_description, student_description_one,student_description_two]\n",
    "for student in student_info:\n",
    "    response =  client.chat.completions.create(\n",
    "        model = 'gpt-3.5-turbo',\n",
    "        messages = [{'role': 'user', 'content': student}],\n",
    "        functions = student_custom_function,\n",
    "        function_call = 'auto'\n",
    "    )\n",
    "\n",
    "    response = json.loads(response.choices[0].message.function_call.arguments)\n",
    "    print(response)#import csv"
   ]
  },
  {
   "cell_type": "markdown",
   "id": "99e9e363-40ce-41b4-a93a-fa3bb2501487",
   "metadata": {},
   "source": [
    "## advance exmaple of funcation calling"
   ]
  },
  {
   "cell_type": "code",
   "execution_count": 137,
   "id": "a80e3966-cfbb-42b5-a17f-e887b4077de3",
   "metadata": {},
   "outputs": [],
   "source": [
    "response = client.chat.completions.create(\n",
    "    model=\"gpt-3.5-turbo\",\n",
    "    messages=[\n",
    "    {\n",
    "      \"role\": \"user\",\n",
    "      \"content\": \"When's the next flight from delhi to mumbai?\"\n",
    "    }\n",
    "      ]\n",
    ")"
   ]
  },
  {
   "cell_type": "code",
   "execution_count": 139,
   "id": "e8cc03f1-287e-4574-8e83-6575c8c1321a",
   "metadata": {},
   "outputs": [
    {
     "data": {
      "text/plain": [
       "\"I'm sorry, I am unable to provide real-time flight information. I recommend checking with airlines or using flight tracking websites for the most up-to-date information on flights from Delhi to Mumbai.\""
      ]
     },
     "execution_count": 139,
     "metadata": {},
     "output_type": "execute_result"
    }
   ],
   "source": [
    "response.choices[0].message.content"
   ]
  },
  {
   "cell_type": "code",
   "execution_count": 140,
   "id": "76061869-159d-4fbd-be7b-be752a483e8d",
   "metadata": {},
   "outputs": [],
   "source": [
    "function_descriptions = [\n",
    "    {\n",
    "        \"name\": \"get_flight_info\",\n",
    "        \"description\": \"Get flight information between two locations\",\n",
    "        \"parameters\": {\n",
    "            \"type\": \"object\",\n",
    "            \"properties\": {\n",
    "                \"loc_origin\": {\n",
    "                    \"type\": \"string\",\n",
    "                    \"description\": \"The departure airport, e.g. DEL\",\n",
    "                },\n",
    "                \"loc_destination\": {\n",
    "                    \"type\": \"string\",\n",
    "                    \"description\": \"The destination airport, e.g. MUM\",\n",
    "                },\n",
    "            },\n",
    "            \"required\": [\"loc_origin\", \"loc_destination\"],\n",
    "        },\n",
    "    }\n",
    "]"
   ]
  },
  {
   "cell_type": "code",
   "execution_count": 141,
   "id": "b5cfbc9d-d8ea-4497-a2f4-57980884b652",
   "metadata": {},
   "outputs": [],
   "source": [
    "user_prompt = \"When's the next flight from new delhi to mumbai?\""
   ]
  },
  {
   "cell_type": "code",
   "execution_count": 142,
   "id": "7fbc6037-09ec-43ff-b29c-d8ec3c872747",
   "metadata": {},
   "outputs": [],
   "source": [
    "response2 = client.chat.completions.create(\n",
    "    model=\"gpt-3.5-turbo\",\n",
    "    messages=[\n",
    "    {\n",
    "      \"role\": \"user\",\n",
    "      \"content\": user_prompt\n",
    "    }\n",
    "      ],\n",
    "    # Add function calling\n",
    "    functions=function_descriptions,\n",
    "    function_call=\"auto\",  # specify the function call\n",
    "    \n",
    ")"
   ]
  },
  {
   "cell_type": "code",
   "execution_count": 143,
   "id": "39432906-3ca8-4462-a99b-e5665c0ab381",
   "metadata": {},
   "outputs": [
    {
     "data": {
      "text/plain": [
       "ChatCompletion(id='chatcmpl-9TMy0suxIPpAebMP9YATlbdOC0XAa', choices=[Choice(finish_reason='function_call', index=0, logprobs=None, message=ChatCompletionMessage(content=None, role='assistant', function_call=FunctionCall(arguments='{\"loc_origin\":\"DEL\",\"loc_destination\":\"BOM\"}', name='get_flight_info'), tool_calls=None))], created=1716786824, model='gpt-3.5-turbo-0125', object='chat.completion', system_fingerprint=None, usage=CompletionUsage(completion_tokens=22, prompt_tokens=87, total_tokens=109))"
      ]
     },
     "execution_count": 143,
     "metadata": {},
     "output_type": "execute_result"
    }
   ],
   "source": [
    "response2"
   ]
  },
  {
   "cell_type": "code",
   "execution_count": 144,
   "id": "2be32346-1522-4876-b9ea-4a530a78eb3d",
   "metadata": {},
   "outputs": [
    {
     "data": {
      "text/plain": [
       "ChatCompletionMessage(content=None, role='assistant', function_call=FunctionCall(arguments='{\"loc_origin\":\"DEL\",\"loc_destination\":\"BOM\"}', name='get_flight_info'), tool_calls=None)"
      ]
     },
     "execution_count": 144,
     "metadata": {},
     "output_type": "execute_result"
    }
   ],
   "source": [
    "response2.choices[0].message"
   ]
  },
  {
   "cell_type": "code",
   "execution_count": 145,
   "id": "816d1c38-47f8-4591-ab67-ded7c992d40e",
   "metadata": {},
   "outputs": [
    {
     "data": {
      "text/plain": [
       "'{\"loc_origin\":\"DEL\",\"loc_destination\":\"BOM\"}'"
      ]
     },
     "execution_count": 145,
     "metadata": {},
     "output_type": "execute_result"
    }
   ],
   "source": [
    "response2.choices[0].message.function_call.arguments"
   ]
  },
  {
   "cell_type": "markdown",
   "id": "1eb574c9-f6d1-4cc2-aae8-aeadf5ad73a7",
   "metadata": {},
   "source": [
    "# call third party api\n",
    "\n",
    "call the real time api"
   ]
  },
  {
   "cell_type": "code",
   "execution_count": 146,
   "id": "1cc339f3-a701-4047-8adb-7fd6e1bd4238",
   "metadata": {},
   "outputs": [],
   "source": [
    "from datetime import datetime,timedelta\n",
    "def get_flight_info(loc_origin, loc_destination):\n",
    "    \"\"\"Get flight information between two locations.\"\"\"\n",
    "\n",
    "    # Example output returned from an API or database\n",
    "    flight_info = {\n",
    "        \"loc_origin\": loc_origin,\n",
    "        \"loc_destination\": loc_destination,\n",
    "        \"datetime\": str(datetime.now() + timedelta(hours=2)),\n",
    "        \"airline\": \"KLM\",\n",
    "        \"flight\": \"KL643\",\n",
    "    }\n",
    "\n",
    "    return json.dumps(flight_info)"
   ]
  },
  {
   "cell_type": "code",
   "execution_count": 147,
   "id": "beef6c05-6424-4fb7-a70a-4cf94e895086",
   "metadata": {},
   "outputs": [],
   "source": [
    "params=json.loads(response2.choices[0].message.function_call.arguments)"
   ]
  },
  {
   "cell_type": "code",
   "execution_count": 148,
   "id": "7c6253db-3f7b-42e8-b86c-b4b2ff7e4626",
   "metadata": {},
   "outputs": [
    {
     "data": {
      "text/plain": [
       "{'loc_origin': 'DEL', 'loc_destination': 'BOM'}"
      ]
     },
     "execution_count": 148,
     "metadata": {},
     "output_type": "execute_result"
    }
   ],
   "source": [
    "params"
   ]
  },
  {
   "cell_type": "code",
   "execution_count": 149,
   "id": "7dcc088b-2c2c-4268-b134-02f87dedf74b",
   "metadata": {},
   "outputs": [
    {
     "data": {
      "text/plain": [
       "'DEL'"
      ]
     },
     "execution_count": 149,
     "metadata": {},
     "output_type": "execute_result"
    }
   ],
   "source": [
    "json.loads(response2.choices[0].message.function_call.arguments).get(\"loc_origin\")"
   ]
  },
  {
   "cell_type": "code",
   "execution_count": 150,
   "id": "dc71fe3d-29b1-4dc7-b9f3-d6b7ecf82bd5",
   "metadata": {},
   "outputs": [
    {
     "data": {
      "text/plain": [
       "'BOM'"
      ]
     },
     "execution_count": 150,
     "metadata": {},
     "output_type": "execute_result"
    }
   ],
   "source": [
    "json.loads(response2.choices[0].message.function_call.arguments).get('loc_destination')"
   ]
  },
  {
   "cell_type": "code",
   "execution_count": 151,
   "id": "33c5137b-bfa3-4b36-b098-5d5b515619fc",
   "metadata": {},
   "outputs": [],
   "source": [
    "origin = json.loads(response2.choices[0].message.function_call.arguments).get(\"loc_origin\")\n",
    "destination = json.loads(response2.choices[0].message.function_call.arguments).get(\"loc_destination\")"
   ]
  },
  {
   "cell_type": "code",
   "execution_count": 152,
   "id": "62518b30-da5f-4e9c-82be-70d38e4aeacb",
   "metadata": {},
   "outputs": [
    {
     "data": {
      "text/plain": [
       "'get_flight_info'"
      ]
     },
     "execution_count": 152,
     "metadata": {},
     "output_type": "execute_result"
    }
   ],
   "source": [
    "response2.choices[0].message.function_call.name"
   ]
  },
  {
   "cell_type": "code",
   "execution_count": 153,
   "id": "619d96b8-3844-484e-8883-90c28e790100",
   "metadata": {},
   "outputs": [
    {
     "data": {
      "text/plain": [
       "str"
      ]
     },
     "execution_count": 153,
     "metadata": {},
     "output_type": "execute_result"
    }
   ],
   "source": [
    "type(response2.choices[0].message.function_call.name)"
   ]
  },
  {
   "cell_type": "code",
   "execution_count": 155,
   "id": "66117d1e-9901-4861-95e0-ef2bfd278798",
   "metadata": {},
   "outputs": [
    {
     "data": {
      "text/plain": [
       "<function __main__.get_flight_info(loc_origin, loc_destination)>"
      ]
     },
     "execution_count": 155,
     "metadata": {},
     "output_type": "execute_result"
    }
   ],
   "source": [
    "eval(response2.choices[0].message.function_call.name)"
   ]
  },
  {
   "cell_type": "code",
   "execution_count": 158,
   "id": "80cb316c-ec3c-436d-9265-a58bde6a66f0",
   "metadata": {},
   "outputs": [
    {
     "name": "stdout",
     "output_type": "stream",
     "text": [
      "{\"loc_origin\": \"DEL\", \"loc_destination\": \"BOM\", \"datetime\": \"2024-05-27 13:06:38.410679\", \"airline\": \"KLM\", \"flight\": \"KL643\"}\n"
     ]
    }
   ],
   "source": [
    "flight = chosen_function(**params)\n",
    "\n",
    "print(flight)"
   ]
  },
  {
   "cell_type": "code",
   "execution_count": 159,
   "id": "08376bf3-c5db-44ac-b168-3b66c0d4ed3d",
   "metadata": {},
   "outputs": [
    {
     "data": {
      "text/plain": [
       "\"When's the next flight from new delhi to mumbai?\""
      ]
     },
     "execution_count": 159,
     "metadata": {},
     "output_type": "execute_result"
    }
   ],
   "source": [
    "user_prompt"
   ]
  },
  {
   "cell_type": "code",
   "execution_count": 160,
   "id": "ca535282-8ed6-40f7-bf79-fc86185bac00",
   "metadata": {},
   "outputs": [
    {
     "data": {
      "text/plain": [
       "'get_flight_info'"
      ]
     },
     "execution_count": 160,
     "metadata": {},
     "output_type": "execute_result"
    }
   ],
   "source": [
    " response2.choices[0].message.function_call.name"
   ]
  },
  {
   "cell_type": "code",
   "execution_count": 161,
   "id": "76e79b2f-97db-42d5-a97a-e198689fde9c",
   "metadata": {},
   "outputs": [
    {
     "data": {
      "text/plain": [
       "'{\"loc_origin\": \"DEL\", \"loc_destination\": \"BOM\", \"datetime\": \"2024-05-27 13:06:38.410679\", \"airline\": \"KLM\", \"flight\": \"KL643\"}'"
      ]
     },
     "execution_count": 161,
     "metadata": {},
     "output_type": "execute_result"
    }
   ],
   "source": [
    "flight"
   ]
  },
  {
   "cell_type": "code",
   "execution_count": 162,
   "id": "5c00a47f-e2f7-46fb-82a7-a5d550a89738",
   "metadata": {},
   "outputs": [],
   "source": [
    "response3 = client.chat.completions.create(\n",
    "    model=\"gpt-3.5-turbo\",\n",
    "    z=[\n",
    "    {\"role\": \"user\",\"content\": user_prompt},\n",
    "    {\"role\": \"function\", \"name\": response2.choices[0].message.function_call.name, \"content\": flight}\n",
    "      ],\n",
    "    # Add function calling\n",
    "    functions=function_descriptions,\n",
    "    function_call=\"auto\",  # specify the function call\n",
    "    \n",
    ")"
   ]
  },
  {
   "cell_type": "code",
   "execution_count": 163,
   "id": "570721a4-7ea2-4b09-9f93-01ae8425124d",
   "metadata": {},
   "outputs": [
    {
     "data": {
      "text/plain": [
       "ChatCompletion(id='chatcmpl-9TNNphWj0ml5Coz4Ua3vJRCDeMAo2', choices=[Choice(finish_reason='stop', index=0, logprobs=None, message=ChatCompletionMessage(content='The next flight from New Delhi (DEL) to Mumbai (BOM) is on May 27, 2024 at 13:06. The flight is operated by KLM with flight number KL643.', role='assistant', function_call=None, tool_calls=None))], created=1716788425, model='gpt-3.5-turbo-0125', object='chat.completion', system_fingerprint=None, usage=CompletionUsage(completion_tokens=44, prompt_tokens=143, total_tokens=187))"
      ]
     },
     "execution_count": 163,
     "metadata": {},
     "output_type": "execute_result"
    }
   ],
   "source": [
    "response3"
   ]
  },
  {
   "cell_type": "code",
   "execution_count": 164,
   "id": "d0af5fe3-d9f8-4266-9b11-c22a5a1ffc17",
   "metadata": {},
   "outputs": [
    {
     "data": {
      "text/plain": [
       "'The next flight from New Delhi (DEL) to Mumbai (BOM) is on May 27, 2024 at 13:06. The flight is operated by KLM with flight number KL643.'"
      ]
     },
     "execution_count": 164,
     "metadata": {},
     "output_type": "execute_result"
    }
   ],
   "source": [
    "response3.choices[0].message.content"
   ]
  },
  {
   "cell_type": "markdown",
   "id": "339be371-0f2d-457a-bf93-ceff5030c3c9",
   "metadata": {},
   "source": [
    "# Funtion Calling\n",
    "\n",
    "Learn how to connect large language models to external tools."
   ]
  },
  {
   "cell_type": "markdown",
   "id": "8c96cafe-88a9-4ff4-b6e4-b768ea9bd5aa",
   "metadata": {},
   "source": [
    "# Langchain"
   ]
  },
  {
   "cell_type": "code",
   "execution_count": 20,
   "id": "6cf8d9b8-efb9-472b-bd7d-bde32f99d908",
   "metadata": {},
   "outputs": [],
   "source": [
    "import langchain"
   ]
  },
  {
   "cell_type": "code",
   "execution_count": 30,
   "id": "b5e99d37-eea4-4c11-9ea0-80514fc47eb7",
   "metadata": {},
   "outputs": [],
   "source": [
    "OPENAI_KEY=\"\""
   ]
  },
  {
   "cell_type": "code",
   "execution_count": 31,
   "id": "c67447b8-7496-4157-a9c3-de28fa3d2d13",
   "metadata": {},
   "outputs": [],
   "source": [
    "from langchain.llms import OpenAI"
   ]
  },
  {
   "cell_type": "code",
   "execution_count": 32,
   "id": "7690962a-7c56-4343-9936-7407d1e74865",
   "metadata": {},
   "outputs": [],
   "source": [
    "client=(openai_api_key=OPENAI_KEY)"
   ]
  },
  {
   "cell_type": "code",
   "execution_count": 33,
   "id": "1b276013-0306-4580-8fec-c6a3710b708d",
   "metadata": {},
   "outputs": [],
   "source": [
    "# zero shot prompting\n",
    "prompt=\"can you tell me total number of country in aisa? can you give me top 10 contry name?\""
   ]
  },
  {
   "cell_type": "code",
   "execution_count": 34,
   "id": "40128015-ddb5-4627-a418-ac81d24b371a",
   "metadata": {},
   "outputs": [
    {
     "name": "stdout",
     "output_type": "stream",
     "text": [
      "There are 48 countries in Asia. The top 10 countries in Asia in terms of population are:\n",
      "\n",
      "1. China\n",
      "2. India\n",
      "3. Indonesia\n",
      "4. Pakistan\n",
      "5. Bangladesh\n",
      "6. Japan\n",
      "7. Philippines\n",
      "8. Vietnam\n",
      "9. Iran\n",
      "10. Turkey\n"
     ]
    }
   ],
   "source": [
    "print(client.predict(prompt).strip())"
   ]
  },
  {
   "cell_type": "code",
   "execution_count": 35,
   "id": "cb61ea3b-af17-4f56-9cee-87a35102835f",
   "metadata": {},
   "outputs": [],
   "source": [
    "# zero shot prompting\n",
    "prompt2=\"can you tell me a capital of india?\""
   ]
  },
  {
   "cell_type": "code",
   "execution_count": 36,
   "id": "6095f7a6-c108-4cb7-a12b-41548c0b15c6",
   "metadata": {},
   "outputs": [
    {
     "name": "stdout",
     "output_type": "stream",
     "text": [
      "The capital of India is New Delhi.\n"
     ]
    }
   ],
   "source": [
    "print(client.predict(prompt2).strip())"
   ]
  },
  {
   "cell_type": "code",
   "execution_count": 37,
   "id": "b7e3e80e-5451-4a7b-8de0-a74474e3e4dd",
   "metadata": {},
   "outputs": [],
   "source": [
    "prompt3=\"​what exactly tokens , vector ?\""
   ]
  },
  {
   "cell_type": "code",
   "execution_count": 38,
   "id": "c37ff72d-15ff-4741-8c35-010c0025d06d",
   "metadata": {},
   "outputs": [
    {
     "name": "stdout",
     "output_type": "stream",
     "text": [
      "Tokens and vectors are both concepts used in computer programming and data structures. \n",
      "\n",
      "Tokens refer to individual units of information or data, typically separated by spaces or symbols. These can include words, numbers, or special characters. In programming languages, tokens are the basic building blocks used to create statements and code. They are also used in data parsing and analysis to break down larger pieces of information into smaller, more manageable units.\n",
      "\n",
      "Vectors, on the other hand, refer to a data structure that is used to store and manipulate collections of data. Vectors are similar to arrays, but have the ability to dynamically resize and change their size as needed. They are commonly used to store lists of data, such as numbers, strings, or objects, and can be accessed and manipulated using various methods and functions. In some programming languages, vectors are also known as arrays, lists, or sequences.\n"
     ]
    }
   ],
   "source": [
    "print(client.predict(prompt3).strip())"
   ]
  },
  {
   "cell_type": "markdown",
   "id": "f4b4718c-c050-41ae-829c-dcee58ccb167",
   "metadata": {},
   "source": [
    "# Prompt Templates:"
   ]
  },
  {
   "cell_type": "code",
   "execution_count": 42,
   "id": "913f4977-9a8c-4615-af16-a0523d34ecb0",
   "metadata": {},
   "outputs": [],
   "source": [
    "from langchain.prompts import PromptTemplate"
   ]
  },
  {
   "cell_type": "code",
   "execution_count": 43,
   "id": "e9cd2d3a-ae5b-47c3-91fe-b88457ac3fce",
   "metadata": {},
   "outputs": [],
   "source": [
    "prompt_template_name=PromptTemplate(\n",
    "    input_variables=[\"country\"],\n",
    "    template=\"can you tell me the capital of {country}?\"\n",
    ")"
   ]
  },
  {
   "cell_type": "code",
   "execution_count": 44,
   "id": "74ddeb71-cdc0-49fa-9cf7-5eb1ec379ec5",
   "metadata": {},
   "outputs": [],
   "source": [
    "propmt1=prompt_template_name.format(country=\"india\")"
   ]
  },
  {
   "cell_type": "code",
   "execution_count": 46,
   "id": "bad1889b-d687-4b48-95ee-f29ec5c57ae5",
   "metadata": {},
   "outputs": [
    {
     "data": {
      "text/plain": [
       "'can you tell me the capital of india?'"
      ]
     },
     "execution_count": 46,
     "metadata": {},
     "output_type": "execute_result"
    }
   ],
   "source": [
    "propmt1"
   ]
  },
  {
   "cell_type": "code",
   "execution_count": 45,
   "id": "6c56d24a-b6a2-42e5-9bd5-7605a39b536a",
   "metadata": {},
   "outputs": [],
   "source": [
    "propmt2=prompt_template_name.format(country=\"USA\")"
   ]
  },
  {
   "cell_type": "code",
   "execution_count": 48,
   "id": "e84600a8-75e8-4a94-aef4-df343d3eaec1",
   "metadata": {},
   "outputs": [
    {
     "data": {
      "text/plain": [
       "'can you tell me the capital of USA?'"
      ]
     },
     "execution_count": 48,
     "metadata": {},
     "output_type": "execute_result"
    }
   ],
   "source": [
    "propmt2"
   ]
  },
  {
   "cell_type": "code",
   "execution_count": 49,
   "id": "fb89476d-fc77-449c-afe8-ba0284e6f650",
   "metadata": {},
   "outputs": [],
   "source": [
    "prompt=PromptTemplate.from_template(\"what is a good name for a compnay that makes a {product}\")"
   ]
  },
  {
   "cell_type": "code",
   "execution_count": 50,
   "id": "2590d82f-eea2-478a-8aaf-12bbdabdb2bc",
   "metadata": {},
   "outputs": [],
   "source": [
    "prompt3=prompt.format(product=\"toys\")"
   ]
  },
  {
   "cell_type": "code",
   "execution_count": 51,
   "id": "7b469fba-baf1-45e4-a30b-7d6e072a6954",
   "metadata": {},
   "outputs": [
    {
     "data": {
      "text/plain": [
       "'what is a good name for a compnay that makes a toys'"
      ]
     },
     "execution_count": 51,
     "metadata": {},
     "output_type": "execute_result"
    }
   ],
   "source": [
    "prompt3"
   ]
  },
  {
   "cell_type": "code",
   "execution_count": 52,
   "id": "0b53bcf0-15ac-4946-953f-9c6b354f419c",
   "metadata": {},
   "outputs": [
    {
     "data": {
      "text/plain": [
       "'\"ImaginNation Toys\" or \"Playtopia\"'"
      ]
     },
     "execution_count": 52,
     "metadata": {},
     "output_type": "execute_result"
    }
   ],
   "source": [
    "client.predict(prompt3).strip()"
   ]
  },
  {
   "cell_type": "markdown",
   "id": "32c98e11-7286-4313-b62d-455862ac2c37",
   "metadata": {},
   "source": [
    "## agent\n",
    "Agent​ This is the chain responsible for deciding what step to take next."
   ]
  },
  {
   "cell_type": "markdown",
   "id": "e0f56bfa-b22a-43d3-8ce1-82130f134400",
   "metadata": {},
   "source": [
    "The core idea of agents is to use a language model to choose a sequence of actions to take. In chains, a sequence of actions is hardcoded (in code). In agents, a language model is used as a reasoning engine to determine which actions to take and in which order."
   ]
  },
  {
   "cell_type": "code",
   "execution_count": 53,
   "id": "4cc9f466-a670-41c1-8769-08b74b3aa460",
   "metadata": {},
   "outputs": [],
   "source": [
    "prompt4=\"can you tell me who won the recent cricket world cup?\""
   ]
  },
  {
   "cell_type": "code",
   "execution_count": 54,
   "id": "45861d16-0af3-4b26-aed2-4fadc3efe6a9",
   "metadata": {},
   "outputs": [
    {
     "data": {
      "text/plain": [
       "'The recent cricket world cup was won by England in 2019. They defeated New Zealand in the final match by a super over tiebreaker.'"
      ]
     },
     "execution_count": 54,
     "metadata": {},
     "output_type": "execute_result"
    }
   ],
   "source": [
    "client.predict(prompt4).strip()"
   ]
  },
  {
   "cell_type": "code",
   "execution_count": 55,
   "id": "4bb0e58c-95fc-4a5b-b99d-ed8ea1d71418",
   "metadata": {},
   "outputs": [],
   "source": [
    "prompt5=\"can you tell me current GDP of india?\""
   ]
  },
  {
   "cell_type": "code",
   "execution_count": 56,
   "id": "69e5752e-8709-409d-9d68-685c80c82b08",
   "metadata": {},
   "outputs": [
    {
     "data": {
      "text/plain": [
       "'As of 2021, the current GDP of India is approximately $3.05 trillion USD.'"
      ]
     },
     "execution_count": 56,
     "metadata": {},
     "output_type": "execute_result"
    }
   ],
   "source": [
    "client.predict(prompt5).strip()"
   ]
  },
  {
   "cell_type": "markdown",
   "id": "34183081-6ac1-480b-9670-29a3d2186210",
   "metadata": {},
   "source": [
    "# for extracting a real time info i am going to user serp api\n",
    "\n",
    "# now by using this serp api i wll call google-search-engine \n",
    "\n",
    "# and i will extract the information in a real time"
   ]
  },
  {
   "cell_type": "code",
   "execution_count": 62,
   "id": "23a90023-fc0b-4749-bceb-2c9ac2adc347",
   "metadata": {},
   "outputs": [
    {
     "name": "stdout",
     "output_type": "stream",
     "text": [
      "Requirement already satisfied: google-search-results in c:\\users\\admin\\desktop\\nidhigenai\\myvenv\\lib\\site-packages (2.4.2)\n",
      "Requirement already satisfied: requests in c:\\users\\admin\\desktop\\nidhigenai\\myvenv\\lib\\site-packages (from google-search-results) (2.32.2)\n",
      "Requirement already satisfied: charset-normalizer<4,>=2 in c:\\users\\admin\\desktop\\nidhigenai\\myvenv\\lib\\site-packages (from requests->google-search-results) (3.3.2)\n",
      "Requirement already satisfied: idna<4,>=2.5 in c:\\users\\admin\\desktop\\nidhigenai\\myvenv\\lib\\site-packages (from requests->google-search-results) (3.7)\n",
      "Requirement already satisfied: urllib3<3,>=1.21.1 in c:\\users\\admin\\desktop\\nidhigenai\\myvenv\\lib\\site-packages (from requests->google-search-results) (2.2.1)\n",
      "Requirement already satisfied: certifi>=2017.4.17 in c:\\users\\admin\\desktop\\nidhigenai\\myvenv\\lib\\site-packages (from requests->google-search-results) (2024.2.2)\n"
     ]
    }
   ],
   "source": [
    "!pip install google-search-results"
   ]
  },
  {
   "cell_type": "code",
   "execution_count": 8,
   "id": "a1eea183-2d9a-40bc-89d8-285b595ca81a",
   "metadata": {},
   "outputs": [],
   "source": [
    "serpapi_key=\"420db634c5cc1f2d7f9a546333368b2b4ace62f86fae7cb72eaf1650a66e2020\""
   ]
  },
  {
   "cell_type": "code",
   "execution_count": 9,
   "id": "dfb978f9-70d1-4eb9-9b93-326d6f65c56d",
   "metadata": {},
   "outputs": [],
   "source": [
    "from langchain.agents import AgentType\n",
    "from langchain.agents import load_tools \n",
    "from langchain.agents import initialize_agent\n",
    "from langchain.llms import OpenAI"
   ]
  },
  {
   "cell_type": "code",
   "execution_count": 10,
   "id": "584e97ab-75af-45cd-a585-368f1613072c",
   "metadata": {},
   "outputs": [],
   "source": [
    "\n",
    "OPENAI_KEY=\"\""
   ]
  },
  {
   "cell_type": "code",
   "execution_count": 11,
   "id": "6a6712bd-96ea-4267-84a3-6ed5dbebb1fd",
   "metadata": {},
   "outputs": [],
   "source": [
    "client=OpenAI(openai_api_key=OPENAI_KEY)"
   ]
  },
  {
   "cell_type": "code",
   "execution_count": 12,
   "id": "c002642e-e6ca-4783-83dd-92d22188f999",
   "metadata": {},
   "outputs": [],
   "source": [
    "tool=load_tools([\"serpapi\"],serpapi_api_key=serpapi_key,llm=client)"
   ]
  },
  {
   "cell_type": "code",
   "execution_count": 15,
   "id": "09f753a6-16ef-4a97-bbc2-a7a8a1069133",
   "metadata": {},
   "outputs": [],
   "source": [
    "agent=initialize_agent(tool,client,agent=AgentType.ZERO_SHOT_REACT_DESCRIPTION,verbose=True)"
   ]
  },
  {
   "cell_type": "code",
   "execution_count": 17,
   "id": "1bd98dc3-92ce-4ea0-836a-b0c80a81025a",
   "metadata": {},
   "outputs": [
    {
     "name": "stdout",
     "output_type": "stream",
     "text": [
      "\n",
      "\n",
      "\u001b[1m> Entering new AgentExecutor chain...\u001b[0m\n",
      "\u001b[32;1m\u001b[1;3m I should think about checking recent news or sports websites.\n",
      "Action: Search\n",
      "Action Input: \"cricket worldcup winner\"\u001b[0m\n",
      "Observation: \u001b[36;1m\u001b[1;3m{'title': \"ICC Men's T20 World Cup\", 'thumbnail': 'https://serpapi.com/searches/6655181266d81f932566baaf/images/c6360801742831ed09ee2b88a74295f7f7c2ded16fedde437ad9896e155b0266.png', 'games': [{'tournament': \"ICC Men's T20 World Cup\", 'stadium': 'Grand Prairie Stadium', 'date': 'Sat, Jun 1', 'teams': [{'name': 'United States', 'thumbnail': 'https://serpapi.com/searches/6655181266d81f932566baaf/images/c6360801742831eddc994f142d92d456d38399a6d04f64337911e4c029e39e1a368c1bcede1644736f8e8de0805c4db8.png'}, {'name': 'Canada', 'thumbnail': 'https://serpapi.com/searches/6655181266d81f932566baaf/images/c6360801742831eddc994f142d92d456d38399a6d04f6433358301429659f4eec90e519b3477072fb26ffa65b99d16ad.png'}], 'status': 'Starts at 8:30 PM'}, {'tournament': \"ICC Men's T20 World Cup\", 'stadium': 'Providence Stadium', 'date': 'Sun, Jun 2', 'teams': [{'name': 'West Indies', 'thumbnail': 'https://serpapi.com/searches/6655181266d81f932566baaf/images/c6360801742831eddc994f142d92d45601da482708bd97f80ba8b80bab9ac32db37edf27b34e0a1650bb4fb3ee825ed4.png'}, {'name': 'Papua New Guinea', 'thumbnail': 'https://serpapi.com/searches/6655181266d81f932566baaf/images/c6360801742831eddc994f142d92d45601da482708bd97f8049b0d8576e660186b75d5b691cf6b568d1b9a75f0a74b1a.png'}], 'status': 'Starts at 10:30 AM'}, {'tournament': \"ICC Men's T20 World Cup\", 'stadium': 'Kensington Oval Barbados', 'date': 'Sun, Jun 2', 'teams': [{'name': 'Namibia', 'thumbnail': 'https://serpapi.com/searches/6655181266d81f932566baaf/images/c6360801742831eddc994f142d92d4562dcfb110ebfdc1c55f643329521dfa640545e8fff32535abe176e83ede9794bb.png'}, {'name': 'Oman', 'thumbnail': 'https://serpapi.com/searches/6655181266d81f932566baaf/images/c6360801742831eddc994f142d92d4562dcfb110ebfdc1c5853584d0d77dd13bba230895eb723b3c0acb1b0dde66a966.png'}], 'status': 'Starts at 8:30 PM'}, {'tournament': \"ICC Men's T20 World Cup\", 'stadium': 'Nassau County International Cricket Stadium', 'date': 'Mon, Jun 3', 'teams': [{'name': 'Sri Lanka', 'thumbnail': 'https://serpapi.com/searches/6655181266d81f932566baaf/images/c6360801742831eddc994f142d92d45673c48deea25cc6d02874de3820b36cb166b7da8b9e9ad35f23dbeacb2c09d859.png'}, {'name': 'South Africa', 'thumbnail': 'https://serpapi.com/searches/6655181266d81f932566baaf/images/c6360801742831eddc994f142d92d45673c48deea25cc6d0660320ed121351268280d0b84b0db46263e7f486d26f1e36.png'}], 'status': 'Starts at 10:30 AM'}, {'tournament': \"ICC Men's T20 World Cup\", 'stadium': 'Providence Stadium', 'date': 'Mon, Jun 3', 'teams': [{'name': 'Afghanistan', 'thumbnail': 'https://serpapi.com/searches/6655181266d81f932566baaf/images/c6360801742831eddc994f142d92d45657268d0e027f1fa6f6c47172076bb725933841cc6d362e01375cee80374318e3.png'}, {'name': 'Uganda', 'thumbnail': 'https://serpapi.com/searches/6655181266d81f932566baaf/images/c6360801742831eddc994f142d92d45657268d0e027f1fa69b53505fed472993dfa3991c859dc58a50692fabaed8b220.png'}], 'status': 'Starts at 8:30 PM'}, {'tournament': \"ICC Men's T20 World Cup\", 'stadium': 'Kensington Oval Barbados', 'date': 'Tue, Jun 4', 'teams': [{'name': 'England', 'thumbnail': 'https://serpapi.com/searches/6655181266d81f932566baaf/images/c6360801742831eddc994f142d92d456b2cc5c0bdf9b273647d65417e7df194af60330bcb3266ce580ffd13261614248.png'}, {'name': 'Scotland', 'thumbnail': 'https://serpapi.com/searches/6655181266d81f932566baaf/images/c6360801742831eddc994f142d92d456b2cc5c0bdf9b2736275de92453fcdca8fc590a985ce527a382a51f7177b3b358.png'}], 'status': 'Starts at 10:30 AM'}]}\u001b[0m\n",
      "Thought:\u001b[32;1m\u001b[1;3m I should keep scrolling until I find the most recent game.\n",
      "Action: Scroll through search results\n",
      "Action Input: N/A\u001b[0m\n",
      "Observation: Scroll through search results is not a valid tool, try one of [Search].\n",
      "Thought:\u001b[32;1m\u001b[1;3m I should try using the Search tool again.\n",
      "Action: Search\n",
      "Action Input: \"latest cricket worldcup winner\"\u001b[0m\n",
      "Observation: \u001b[36;1m\u001b[1;3m{'title': \"ICC Men's T20 World Cup\", 'thumbnail': 'https://serpapi.com/searches/665518221988e5bf2a9eb93e/images/a200fbaa170a565b7738a9d755bf6f63ee7e01587bf781d5669f34ff047acda4.png', 'games': [{'tournament': \"ICC Men's T20 World Cup\", 'stadium': 'MCG', 'date': 'Nov 13, 22', 'teams': [{'name': 'Pakistan', 'score': '137/8 (20)', 'thumbnail': 'https://serpapi.com/searches/665518221988e5bf2a9eb93e/images/a200fbaa170a565b7e021795d1ea3fb05f66873559113da30a33237c2ee9ac0c1ef30e140dfbd02f2cb9832b2d37304b.png'}, {'name': 'England', 'score': '138/5 (19)', 'thumbnail': 'https://serpapi.com/searches/665518221988e5bf2a9eb93e/images/a200fbaa170a565b7e021795d1ea3fb05f66873559113da3222773fbdf76f58599ca2f6ab205d785015d7d711d878cb1.png'}], 'status': 'ENG won by 5 wickets (6 balls left)'}, {'tournament': \"ICC Men's T20 World Cup\", 'stadium': 'Adelaide Oval', 'date': 'Nov 10, 22', 'teams': [{'name': 'India', 'score': '168/6 (20)', 'thumbnail': 'https://serpapi.com/searches/665518221988e5bf2a9eb93e/images/a200fbaa170a565b7e021795d1ea3fb06593603c272a049eeb77a240138e9a61b15f3b9d7a10cd03e5bc341b657c64d8.png'}, {'name': 'England', 'score': '170/0 (16)', 'thumbnail': 'https://serpapi.com/searches/665518221988e5bf2a9eb93e/images/a200fbaa170a565b7e021795d1ea3fb06593603c272a049e9d8d2f9ea8426f4a2bb3c4dcdc9ced678b081acd3fe0d9d3.png'}], 'status': 'ENG won by 10 wickets (24 balls left)'}, {'tournament': \"ICC Men's T20 World Cup\", 'stadium': 'SCG', 'date': 'Nov 9, 22', 'teams': [{'name': 'New Zealand', 'score': '152/4 (20)', 'thumbnail': 'https://serpapi.com/searches/665518221988e5bf2a9eb93e/images/a200fbaa170a565b7e021795d1ea3fb05ca19fb79cdb653839eb3aae01050e23f7cb129c7097a0c811bbc5fbbc2ce911.png'}, {'name': 'Pakistan', 'score': '153/3 (19.1)', 'thumbnail': 'https://serpapi.com/searches/665518221988e5bf2a9eb93e/images/a200fbaa170a565b7e021795d1ea3fb05ca19fb79cdb6538ba131ed351da70b717fb0771a6a6649e739ffe77718654c1.png'}], 'status': 'PAK won by 7 wickets (5 balls left)'}, {'tournament': \"ICC Men's T20 World Cup\", 'stadium': 'MCG', 'date': 'Nov 6, 22', 'teams': [{'name': 'India', 'score': '186/5 (20)', 'thumbnail': 'https://serpapi.com/searches/665518221988e5bf2a9eb93e/images/a200fbaa170a565b7e021795d1ea3fb0b2bec411927896420c24b615c2c50cdb2a1b461b3b2bc8ae75713bf4603270b0.png'}, {'name': 'Zimbabwe', 'score': '115 (17.2)', 'thumbnail': 'https://serpapi.com/searches/665518221988e5bf2a9eb93e/images/a200fbaa170a565b7e021795d1ea3fb0b2bec41192789642c336832ec81c467c0d4bc42cfada8e84723d36498d906bb6.png'}], 'status': 'IND won by 71 runs'}, {'tournament': \"ICC Men's T20 World Cup\", 'stadium': 'Adelaide Oval', 'date': 'Nov 6, 22', 'teams': [{'name': 'Bangladesh', 'score': '127/8 (20)', 'thumbnail': 'https://serpapi.com/searches/665518221988e5bf2a9eb93e/images/a200fbaa170a565b7e021795d1ea3fb0495cd989ae27cf50756da21d68a2bb18e1051e4a20b34d89c43fa532f9a1d0ff.png'}, {'name': 'Pakistan', 'score': '128/5 (18.1)', 'thumbnail': 'https://serpapi.com/searches/665518221988e5bf2a9eb93e/images/a200fbaa170a565b7e021795d1ea3fb0495cd989ae27cf504d30c6c695295b84b4a97a8f7a7da4e018a0e6aed576cb58.png'}], 'status': 'PAK won by 5 wickets (11 balls left)'}, {'tournament': \"ICC Men's T20 World Cup\", 'stadium': 'Adelaide Oval', 'date': 'Nov 5, 22', 'teams': [{'name': 'Netherlands', 'score': '158/4 (20)', 'thumbnail': 'https://serpapi.com/searches/665518221988e5bf2a9eb93e/images/a200fbaa170a565b7e021795d1ea3fb07dece6489fc6154d883673f6c7e1e1a25cb43a7f64c23db930e462b9850abeba.png'}, {'name': 'South Africa', 'score': '145/8 (20)', 'thumbnail': 'https://serpapi.com/searches/665518221988e5bf2a9eb93e/images/a200fbaa170a565b7e021795d1ea3fb07dece6489fc6154d2b9650e0e54a857f8de6a2df0e61da75be6f833f8a400fd8.png'}], 'status': 'NED won by 13 runs'}]}\u001b[0m\n",
      "Thought:\u001b[32;1m\u001b[1;3m I should check the most recent game and their status.\n",
      "Final Answer: England won the 2022 ICC Men's T20 World Cup.\u001b[0m\n",
      "\n",
      "\u001b[1m> Finished chain.\u001b[0m\n"
     ]
    },
    {
     "data": {
      "text/plain": [
       "\"England won the 2022 ICC Men's T20 World Cup.\""
      ]
     },
     "execution_count": 17,
     "metadata": {},
     "output_type": "execute_result"
    }
   ],
   "source": [
    "agent.run(\"can you tell who won the cricket worldcup recently?\")"
   ]
  },
  {
   "cell_type": "code",
   "execution_count": 18,
   "id": "60e2e643-07f7-45c5-9b8b-d79c7e869959",
   "metadata": {
    "scrolled": true
   },
   "outputs": [
    {
     "name": "stdout",
     "output_type": "stream",
     "text": [
      "\n",
      "\n",
      "\u001b[1m> Entering new AgentExecutor chain...\u001b[0m\n",
      "\u001b[32;1m\u001b[1;3m I should think about what topics are currently being talked about in the news.\n",
      "Action: Search\n",
      "Action Input: \"top current affairs\"\u001b[0m\n",
      "Observation: \u001b[36;1m\u001b[1;3m[\"Current Affairs Today - Current Affairs - 2024 · NATO Border Nations Plan 'Drone Wall' Against Russia · NASA Launches Satellite PREFIRE to Monitor and Mitigate ...\", 'Current Affairs · 55 AAP MLAs Meet Sunita, Say Jailed Kejriwal Should Not Resign · UP: Hearing in 2018 Defamation Case Against Rahul Gandhi Postponed to April 12 ...', 'Presented here are the latest daily Current Affairs 2024 to prepare for forthcoming Bank, SSC, Railway, and UPSC Exams. Enhance your awareness and general ...', 'A Current Affairs subscription is one of the best known ways to improve your life in a hurry. Our print magazine is released six times a year, in a ...', 'Latest News Today: Breaking news on Politics, Business, Sports, Bollywood, Education, Science. Latest News on Politics, India, Current affairs.', 'Current Affairs | Breaking news headlines, stories and live updates on current affairs from across the globe. Complete coverage on the latest top stories, ...', \"Current Affairs forms an integral part of a candidate's preparation strategy for any competitive exam such as SSC, UPSC, Banking, State PCS or any other ...\", 'Testbook is the most popular website for daily current affairs updates. Why are Current Affairs Important? Current Affairs are important to keep up with the ...', 'Popular Current Affairs Blogs · 1. Jagran Josh · 2. AffairsCloud.com · 3. CURRENT AFFAIRS Archives - INSIGHTSIAS - Simplifying UPSC IAS Exam Preparation · 4.']\u001b[0m\n",
      "Thought:\u001b[32;1m\u001b[1;3m I should look through the list of current affairs and select the top 5.\n",
      "Action: Select\n",
      "Action Input: Top 5 items from Observation\u001b[0m\n",
      "Observation: Select is not a valid tool, try one of [Search].\n",
      "Thought:\u001b[32;1m\u001b[1;3m I should search for \"top current affairs\" again and this time, take note of the top 5 results.\n",
      "Action: Search\n",
      "Action Input: \"top current affairs\"\u001b[0m\n",
      "Observation: \u001b[36;1m\u001b[1;3m[\"Current Affairs Today - Current Affairs - 2024 · NATO Border Nations Plan 'Drone Wall' Against Russia · NASA Launches Satellite PREFIRE to Monitor and Mitigate ...\", 'Current Affairs · 55 AAP MLAs Meet Sunita, Say Jailed Kejriwal Should Not Resign · UP: Hearing in 2018 Defamation Case Against Rahul Gandhi Postponed to April 12 ...', 'Presented here are the latest daily Current Affairs 2024 to prepare for forthcoming Bank, SSC, Railway, and UPSC Exams. Enhance your awareness and general ...', 'A Current Affairs subscription is one of the best known ways to improve your life in a hurry. Our print magazine is released six times a year, in a ...', 'Latest News Today: Breaking news on Politics, Business, Sports, Bollywood, Education, Science. Latest News on Politics, India, Current affairs.', 'Current Affairs | Breaking news headlines, stories and live updates on current affairs from across the globe. Complete coverage on the latest top stories, ...', \"Current Affairs forms an integral part of a candidate's preparation strategy for any competitive exam such as SSC, UPSC, Banking, State PCS or any other ...\", 'Testbook is the most popular website for daily current affairs updates. Why are Current Affairs Important? Current Affairs are important to keep up with the ...', 'Popular Current Affairs Blogs · 1. Jagran Josh · 2. AffairsCloud.com · 3. CURRENT AFFAIRS Archives - INSIGHTSIAS - Simplifying UPSC IAS Exam Preparation · 4.']\u001b[0m\n",
      "Thought:\u001b[32;1m\u001b[1;3m I now know the top 5 current affairs based on my search.\n",
      "Final Answer: The top 5 current affairs are: 1. NATO Border Nations Plan 'Drone Wall' Against Russia, 2. 55 AAP MLAs Meet Sunita, Say Jailed Kejriwal Should Not Resign, 3. Latest News Today: Breaking news on Politics, Business, Sports, Bollywood, Education, Science, 4. Current Affairs forms an integral part of a candidate's preparation strategy for any competitive exam such as SSC, UPSC, Banking, State PCS or any other, 5. Testbook is the most popular website for daily current affairs updates.\u001b[0m\n",
      "\n",
      "\u001b[1m> Finished chain.\u001b[0m\n"
     ]
    },
    {
     "data": {
      "text/plain": [
       "\"The top 5 current affairs are: 1. NATO Border Nations Plan 'Drone Wall' Against Russia, 2. 55 AAP MLAs Meet Sunita, Say Jailed Kejriwal Should Not Resign, 3. Latest News Today: Breaking news on Politics, Business, Sports, Bollywood, Education, Science, 4. Current Affairs forms an integral part of a candidate's preparation strategy for any competitive exam such as SSC, UPSC, Banking, State PCS or any other, 5. Testbook is the most popular website for daily current affairs updates.\""
      ]
     },
     "execution_count": 18,
     "metadata": {},
     "output_type": "execute_result"
    }
   ],
   "source": [
    "agent.run(\"can you tell me 5 top current affairs?\")"
   ]
  },
  {
   "cell_type": "code",
   "execution_count": 19,
   "id": "784513a2-ed57-4d37-8144-37c2c29cf093",
   "metadata": {},
   "outputs": [
    {
     "name": "stdout",
     "output_type": "stream",
     "text": [
      "Collecting wikipedia\n",
      "  Using cached wikipedia-1.4.0-py3-none-any.whl\n",
      "Requirement already satisfied: beautifulsoup4 in c:\\users\\admin\\desktop\\nidhigenai\\myvenv\\lib\\site-packages (from wikipedia) (4.12.3)\n",
      "Requirement already satisfied: requests<3.0.0,>=2.0.0 in c:\\users\\admin\\desktop\\nidhigenai\\myvenv\\lib\\site-packages (from wikipedia) (2.32.2)\n",
      "Requirement already satisfied: charset-normalizer<4,>=2 in c:\\users\\admin\\desktop\\nidhigenai\\myvenv\\lib\\site-packages (from requests<3.0.0,>=2.0.0->wikipedia) (3.3.2)\n",
      "Requirement already satisfied: idna<4,>=2.5 in c:\\users\\admin\\desktop\\nidhigenai\\myvenv\\lib\\site-packages (from requests<3.0.0,>=2.0.0->wikipedia) (3.7)\n",
      "Requirement already satisfied: urllib3<3,>=1.21.1 in c:\\users\\admin\\desktop\\nidhigenai\\myvenv\\lib\\site-packages (from requests<3.0.0,>=2.0.0->wikipedia) (2.2.1)\n",
      "Requirement already satisfied: certifi>=2017.4.17 in c:\\users\\admin\\desktop\\nidhigenai\\myvenv\\lib\\site-packages (from requests<3.0.0,>=2.0.0->wikipedia) (2024.2.2)\n",
      "Requirement already satisfied: soupsieve>1.2 in c:\\users\\admin\\desktop\\nidhigenai\\myvenv\\lib\\site-packages (from beautifulsoup4->wikipedia) (2.5)\n",
      "Installing collected packages: wikipedia\n",
      "Successfully installed wikipedia-1.4.0\n"
     ]
    }
   ],
   "source": [
    "!pip install wikipedia"
   ]
  },
  {
   "cell_type": "code",
   "execution_count": 20,
   "id": "e00748bd-a4a3-42bf-a56f-3846e3c7a276",
   "metadata": {},
   "outputs": [],
   "source": [
    "tool=load_tools([\"wikipedia\"],llm=client)"
   ]
  },
  {
   "cell_type": "code",
   "execution_count": 21,
   "id": "9cfab25f-f9f3-4599-b83b-91a74d2b36f8",
   "metadata": {},
   "outputs": [],
   "source": [
    "agent=initialize_agent(tool,client,agent=AgentType.ZERO_SHOT_REACT_DESCRIPTION,verbose=True)"
   ]
  },
  {
   "cell_type": "code",
   "execution_count": 23,
   "id": "3ac4d02e-6860-4573-9f53-b8c815ba9f36",
   "metadata": {},
   "outputs": [
    {
     "name": "stdout",
     "output_type": "stream",
     "text": [
      "\n",
      "\n",
      "\u001b[1m> Entering new AgentExecutor chain...\u001b[0m\n",
      "\u001b[32;1m\u001b[1;3m you should always think about what to do\n",
      "Action: [wikipedia]\n",
      "Action Input: 2019 Cricket World Cup\u001b[0m\n",
      "Observation: [wikipedia] is not a valid tool, try one of [wikipedia].\n",
      "Thought:\u001b[32;1m\u001b[1;3m I should try using [wikipedia].\n",
      "Action: [wikipedia]\n",
      "Action Input: 2019 Cricket World Cup\u001b[0m\n",
      "Observation: [wikipedia] is not a valid tool, try one of [wikipedia].\n",
      "Thought:\u001b[32;1m\u001b[1;3m I should try using [wikipedia].\n",
      "Action: [wikipedia]\n",
      "Action Input: Cricket World Cup\u001b[0m\n",
      "Observation: [wikipedia] is not a valid tool, try one of [wikipedia].\n",
      "Thought:\u001b[32;1m\u001b[1;3m I should try using [wikipedia].\n",
      "Action: [wikipedia]\n",
      "Action Input: ICC Cricket World Cup\u001b[0m\n",
      "Observation: [wikipedia] is not a valid tool, try one of [wikipedia].\n",
      "Thought:\u001b[32;1m\u001b[1;3m I should try using [wikipedia].\n",
      "Action: [wikipedia]\n",
      "Action Input: 2019 ICC Cricket World Cup\u001b[0m\n",
      "Observation: [wikipedia] is not a valid tool, try one of [wikipedia].\n",
      "Thought:\u001b[32;1m\u001b[1;3m I should try using [wikipedia].\n",
      "Action: [wikipedia]\n",
      "Action Input: 2019 ICC Cricket World Cup Final\u001b[0m\n",
      "Observation: [wikipedia] is not a valid tool, try one of [wikipedia].\n",
      "Thought:\u001b[32;1m\u001b[1;3m I should try using [wikipedia].\n",
      "Action: [wikipedia]\n",
      "Action Input: 2019 Cricket World Cup Final\u001b[0m\n",
      "Observation: [wikipedia] is not a valid tool, try one of [wikipedia].\n",
      "Thought:\u001b[32;1m\u001b[1;3m I should try using [wikipedia].\n",
      "Action: [wikipedia]\n",
      "Action Input: 2019 Cricket World Cup Finals\u001b[0m\n",
      "Observation: [wikipedia] is not a valid tool, try one of [wikipedia].\n",
      "Thought:\u001b[32;1m\u001b[1;3m I should try using [wikipedia].\n",
      "Action: [wikipedia]\n",
      "Action Input: 2019 Cricket World Cup Final Match\u001b[0m\n",
      "Observation: [wikipedia] is not a valid tool, try one of [wikipedia].\n",
      "Thought:\u001b[32;1m\u001b[1;3m I should try using [wikipedia].\n",
      "Action: [wikipedia]\n",
      "Action Input: ICC Cricket World Cup 2019\u001b[0m\n",
      "Observation: [wikipedia] is not a valid tool, try one of [wikipedia].\n",
      "Thought:\u001b[32;1m\u001b[1;3m I should try using [wikipedia].\n",
      "Action: [wikipedia]\n",
      "Action Input: 2019 Cricket World Cup Squads\u001b[0m\n",
      "Observation: [wikipedia] is not a valid tool, try one of [wikipedia].\n",
      "Thought:\u001b[32;1m\u001b[1;3m I should try using [wikipedia].\n",
      "Action: [wikipedia]\n",
      "Action Input: 2019 Cricket World Cup Teams\u001b[0m\n",
      "Observation: [wikipedia] is not a valid tool, try one of [wikipedia].\n",
      "Thought:\u001b[32;1m\u001b[1;3m I should try using [wikipedia].\n",
      "Action: [wikipedia]\n",
      "Action Input: 2019 Cricket World Cup Winners\u001b[0m\n",
      "Observation: [wikipedia] is not a valid tool, try one of [wikipedia].\n",
      "Thought:\u001b[32;1m\u001b[1;3m I should try using [wikipedia].\n",
      "Action: [wikipedia]\n",
      "Action Input: 2019 Cricket World Cup Records\u001b[0m\n",
      "Observation: [wikipedia] is not a valid tool, try one of [wikipedia].\n",
      "Thought:\u001b[32;1m\u001b[1;3m I should try using [wikipedia].\n",
      "Action: [wikipedia]\n",
      "Action Input: 2019 Cricket World Cup Highlights\u001b[0m\n",
      "Observation: [wikipedia] is not a valid tool, try one of [wikipedia].\n",
      "Thought:\u001b[32;1m\u001b[1;3m\u001b[0m\n",
      "\n",
      "\u001b[1m> Finished chain.\u001b[0m\n"
     ]
    },
    {
     "data": {
      "text/plain": [
       "'Agent stopped due to iteration limit or time limit.'"
      ]
     },
     "execution_count": 23,
     "metadata": {},
     "output_type": "execute_result"
    }
   ],
   "source": [
    "agent.run(\"can you tell me about this recent cricket worldcup?\")"
   ]
  },
  {
   "cell_type": "code",
   "execution_count": 24,
   "id": "058dec86-469c-45be-a4c3-eb487dbf4447",
   "metadata": {},
   "outputs": [
    {
     "name": "stdout",
     "output_type": "stream",
     "text": [
      "\n",
      "\n",
      "\u001b[1m> Entering new AgentExecutor chain...\u001b[0m\n",
      "\u001b[32;1m\u001b[1;3m You should always think about what to do\n",
      "Action: wikipedia\n",
      "Action Input: USA GDP 2018\u001b[0m\n",
      "Observation: \u001b[36;1m\u001b[1;3mPage: Economy of the United States\n",
      "Summary: The United States is a highly developed/advanced mixed economy. It is the world's largest economy by nominal GDP; it is also the second largest by purchasing power parity (PPP), behind China. It has the world's sixth highest per capita GDP (nominal) and the eighth highest per capita GDP (PPP) as of 2024. The U.S. accounted for 26% of the global economy in 2023 in nominal terms, and about 15.5% in PPP terms. The U.S. dollar is the currency of record most used in international transactions and is the world's reserve currency, backed by a large U.S. treasuries market, its role as the reference standard for the petrodollar system, and its linked eurodollar. Several countries use it as their official currency and in others it is the de facto currency. Since the end of World War II, the economy has achieved relatively steady growth, low unemployment and inflation, and rapid advances in technology. \n",
      "The American economy is fueled by high productivity, well developed transportation infrastructure, and extensive natural resources. Americans have the sixth highest average household and employee income among OECD member states. In 2021, they had the highest median household income. The U.S. has one of the world's highest income inequalities among the developed countries. The largest U.S. trading partners are Canada, Mexico, China, Japan, Germany, South Korea, the United Kingdom, Taiwan, India, and Vietnam. The U.S. is the world's largest importer and second largest exporter. It has free trade agreements with several countries, including Canada and Mexico (through the USMCA), Australia, South Korea, Israel, and several others that are in effect or under negotiation. U.S. has a highly flexible labor market, where the industry adheres to a hire-and-fire policy, and job security is relatively low. Among OECD nations, the U.S. has a highly efficient and strong social security system; social expenditure stood at roughly 30% of GDP.  \n",
      "By 1890, the United States had overtaken the British Empire as the world's most productive economy. It is the world's largest producer of petroleum and natural gas. In 2016, it was the world's largest trading country and second largest manufacturer, with American manufacturing making up a fifth of the global total. The U.S. not only has the largest internal market for goods, but also dominates the services trade. Total U.S. trade was $4.2 trillion in 2018. Of the world's 500 largest companies, 121 are headquartered in the U.S. The U.S. has the world's highest number of billionaires, with total wealth of $3.0 trillion. U.S. commercial banks had $22.9 trillion in assets in December 2022. U.S. global assets under management had more than $30 trillion in assets. During the Great Recession of 2008, the U.S. economy suffered a significant decline. The American Reinvestment and Recovery Act was enacted by the United States Congress, and in the ensuing years the U.S. experienced the longest economic expansion on record by July 2019.\n",
      "The New York Stock Exchange and Nasdaq are the world's largest stock exchanges by market capitalization and trade volume. The U.S. has the world's largest gold reserve, with over 8,000 tonnes of gold. In 2014, the U.S. economy was ranked first in international ranking on venture capital and global research and development funding. The U.S. spends around 3.46% of GDP on cutting-edge research and development across various sectors of the economy. The U.S. has produced the world's highest number of Nobel laureates in the economics field. It is also the world's fourth largest high-technology exporter. The U.S. ranks second in the world by number of patent applications. Consumer spending comprised 68% of the U.S. economy in 2022, while its labor share of income was 44% in 2021. The U.S. has the world's largest consumer market. The nation's labor market has attracted immigrants from all over the world and its net migration rate is among the highest in the \u001b[0m\n",
      "Thought:\u001b[32;1m\u001b[1;3m I now know the final answer\n",
      "Final Answer: As of 2024, the current GDP of the United States is the largest in the world at $22.6 trillion, accounting for 26% of the global economy.\u001b[0m\n",
      "\n",
      "\u001b[1m> Finished chain.\u001b[0m\n"
     ]
    },
    {
     "data": {
      "text/plain": [
       "'As of 2024, the current GDP of the United States is the largest in the world at $22.6 trillion, accounting for 26% of the global economy.'"
      ]
     },
     "execution_count": 24,
     "metadata": {},
     "output_type": "execute_result"
    }
   ],
   "source": [
    "agent.run(\"can you tell me what is current GDP of usa?\")"
   ]
  },
  {
   "cell_type": "markdown",
   "id": "b6c99192-0b1d-4701-a383-5475e193e896",
   "metadata": {},
   "source": [
    "# Chain\n",
    "Central to LangChain is a vital component known as LangChain Chains, forming the core connection among one or several large language models (LLMs). In certain sophisticated applications, it becomes necessary to chain LLMs together, either with each other or with other elements."
   ]
  },
  {
   "cell_type": "code",
   "execution_count": 1,
   "id": "f65a2a2e-1d49-41aa-9008-72983b822e9e",
   "metadata": {},
   "outputs": [
    {
     "ename": "NameError",
     "evalue": "name 'client' is not defined",
     "output_type": "error",
     "traceback": [
      "\u001b[1;31m---------------------------------------------------------------------------\u001b[0m",
      "\u001b[1;31mNameError\u001b[0m                                 Traceback (most recent call last)",
      "Cell \u001b[1;32mIn[1], line 1\u001b[0m\n\u001b[1;32m----> 1\u001b[0m \u001b[43mclient\u001b[49m\n",
      "\u001b[1;31mNameError\u001b[0m: name 'client' is not defined"
     ]
    }
   ],
   "source": [
    "client"
   ]
  },
  {
   "cell_type": "code",
   "execution_count": 27,
   "id": "3f7ba15c-750f-4f06-9876-4a2f318cdcb6",
   "metadata": {},
   "outputs": [],
   "source": [
    "from langchain.prompts import PromptTemplate\n",
    "\n",
    "prompt=PromptTemplate.from_template(\"what is a good name for a company that makes {product}\")\n"
   ]
  },
  {
   "cell_type": "code",
   "execution_count": 28,
   "id": "0fa57839-d138-4f55-8344-c21ebe91dd1d",
   "metadata": {},
   "outputs": [],
   "source": [
    "from langchain.chains import LLMChain"
   ]
  },
  {
   "cell_type": "code",
   "execution_count": 30,
   "id": "b2aa116a-4095-4102-81ac-3d44b04f3864",
   "metadata": {},
   "outputs": [],
   "source": [
    "chain=LLMChain(llm=client,prompt=prompt)"
   ]
  },
  {
   "cell_type": "code",
   "execution_count": 31,
   "id": "eb65d71d-3a88-47a7-abe7-8289b04ae4e3",
   "metadata": {},
   "outputs": [
    {
     "data": {
      "text/plain": [
       "'1. Vineyard Vines \\n2. Grapes & Vines Co. \\n3. The Wine Cellar Co. \\n4. Cork & Barrel Co. \\n5. Vino Ventures \\n6. Grapevine Co. \\n7. Bacchus Winery \\n8. The Wine Merchant \\n9. Chateau Classics \\n10. Vintage Vineyards'"
      ]
     },
     "execution_count": 31,
     "metadata": {},
     "output_type": "execute_result"
    }
   ],
   "source": [
    "chain.run(\"Wine\").strip()"
   ]
  },
  {
   "cell_type": "markdown",
   "id": "2ae4f3a2-6fa3-433b-a1bd-e21213919e50",
   "metadata": {},
   "source": [
    "# Example 2"
   ]
  },
  {
   "cell_type": "code",
   "execution_count": 40,
   "id": "7cb5570f-b171-4668-8cff-f3fe0d5a93ca",
   "metadata": {},
   "outputs": [],
   "source": [
    "prompt_template=PromptTemplate(\n",
    "    input_variables=['cuisine'],\n",
    "    template=\"i want to open a restaurent for {cuisine} food, suggest a fency name for this\"\n",
    ")"
   ]
  },
  {
   "cell_type": "code",
   "execution_count": 41,
   "id": "0ff3d912-a6cb-4813-a4dc-f9d56dfef4bf",
   "metadata": {},
   "outputs": [
    {
     "data": {
      "text/plain": [
       "PromptTemplate(input_variables=['cuisine'], template='i want to open a restaurent for {cuisine} food, suggest a fency name for this')"
      ]
     },
     "execution_count": 41,
     "metadata": {},
     "output_type": "execute_result"
    }
   ],
   "source": [
    "prompt_template"
   ]
  },
  {
   "cell_type": "code",
   "execution_count": 46,
   "id": "bbc7f308-cc64-42ce-a60e-8b794bd40b1b",
   "metadata": {},
   "outputs": [],
   "source": [
    "chain=LLMChain(llm=client,prompt=prompt_template,verbose=True)"
   ]
  },
  {
   "cell_type": "code",
   "execution_count": 47,
   "id": "c2c00980-2aea-4bd9-8a08-3cebfbeb6aae",
   "metadata": {},
   "outputs": [
    {
     "name": "stdout",
     "output_type": "stream",
     "text": [
      "\n",
      "\n",
      "\u001b[1m> Entering new LLMChain chain...\u001b[0m\n",
      "Prompt after formatting:\n",
      "\u001b[32;1m\u001b[1;3mi want to open a restaurent for indian food, suggest a fency name for this\u001b[0m\n",
      "\n",
      "\u001b[1m> Finished chain.\u001b[0m\n"
     ]
    },
    {
     "data": {
      "text/plain": [
       "'\"Spice Palace\"'"
      ]
     },
     "execution_count": 47,
     "metadata": {},
     "output_type": "execute_result"
    }
   ],
   "source": [
    "chain.run(\"indian\").strip()"
   ]
  },
  {
   "cell_type": "code",
   "execution_count": 44,
   "id": "9d137718-1622-4e6f-80f0-dff211e87a46",
   "metadata": {},
   "outputs": [],
   "source": [
    "chain=LLMChain(llm=client,prompt=prompt_template)"
   ]
  },
  {
   "cell_type": "code",
   "execution_count": 48,
   "id": "cc19873f-2571-4d60-880e-f314515e26fc",
   "metadata": {},
   "outputs": [
    {
     "name": "stdout",
     "output_type": "stream",
     "text": [
      "\n",
      "\n",
      "\u001b[1m> Entering new LLMChain chain...\u001b[0m\n",
      "Prompt after formatting:\n",
      "\u001b[32;1m\u001b[1;3mi want to open a restaurent for american food, suggest a fency name for this\u001b[0m\n",
      "\n",
      "\u001b[1m> Finished chain.\u001b[0m\n"
     ]
    },
    {
     "data": {
      "text/plain": [
       "'\\n\\n\"Stateside Bistro\"'"
      ]
     },
     "execution_count": 48,
     "metadata": {},
     "output_type": "execute_result"
    }
   ],
   "source": [
    "chain.run(\"american\")"
   ]
  },
  {
   "cell_type": "markdown",
   "id": "e46b329b-89bd-4c22-a575-044675f1a38a",
   "metadata": {},
   "source": [
    "### if we want to combine multiple chain and set a seqence for that we use simplesequential chain"
   ]
  },
  {
   "cell_type": "code",
   "execution_count": 51,
   "id": "5e354e4c-21c9-48c6-95e3-13763bfe66a9",
   "metadata": {},
   "outputs": [],
   "source": [
    "prompt_template_name=PromptTemplate(\n",
    "input_variables=[\"startup_name\"],\n",
    "    template=\"I want to start a startup for {startup_name} , suggest me a good name for this\"  \n",
    ")"
   ]
  },
  {
   "cell_type": "code",
   "execution_count": 52,
   "id": "ee0a83e9-d5d2-4c31-a060-1e87dd90f9fd",
   "metadata": {},
   "outputs": [],
   "source": [
    "name_chain=LLMChain(llm=client,prompt=prompt_template_name)"
   ]
  },
  {
   "cell_type": "code",
   "execution_count": 53,
   "id": "b25d0916-aa1f-427e-a2a5-dfd0254e4c2c",
   "metadata": {},
   "outputs": [],
   "source": [
    "prompt_template_items=PromptTemplate(\n",
    "input_variables=[\"name\"],\n",
    "    template=\"suggest some strategies for {name}\"    \n",
    ")"
   ]
  },
  {
   "cell_type": "code",
   "execution_count": 54,
   "id": "985da647-a865-435d-aa96-54e5814f5823",
   "metadata": {},
   "outputs": [],
   "source": [
    "strategies_chain=LLMChain(llm=client,prompt=prompt_template_items)"
   ]
  },
  {
   "cell_type": "code",
   "execution_count": 55,
   "id": "0f06caa3-8a2e-4ee1-a17c-99d5d0e95c99",
   "metadata": {},
   "outputs": [],
   "source": [
    "from langchain.chains import SimpleSequentialChain"
   ]
  },
  {
   "cell_type": "code",
   "execution_count": 56,
   "id": "c323d1d2-3668-4891-8ba1-873d23733b48",
   "metadata": {},
   "outputs": [],
   "source": [
    "chain=SimpleSequentialChain(chains=[name_chain,strategies_chain])"
   ]
  },
  {
   "cell_type": "code",
   "execution_count": 58,
   "id": "a77ea9be-1981-4bb9-be05-d2a419040a12",
   "metadata": {},
   "outputs": [
    {
     "name": "stdout",
     "output_type": "stream",
     "text": [
      "\n",
      "\n",
      "1. Focus on Research and Development: As a company in the technology industry, it is important for IntelliMind Inc. to continuously invest in research and development. This will help to stay ahead of the competition and develop innovative products and services.\n",
      "\n",
      "2. Build a Strong Online Presence: In today's digital age, having a strong online presence is crucial for any business. IntelliMind Inc. should invest in a user-friendly and visually appealing website, as well as maintain active social media accounts to reach a wider audience and showcase its products and services.\n",
      "\n",
      "3. Partner with Other Companies: Collaborating with other businesses can be beneficial for IntelliMind Inc. By partnering with complementary companies, it can expand its customer base, share resources, and develop new products and services.\n",
      "\n",
      "4. Offer Excellent Customer Service: In the competitive technology industry, providing exceptional customer service can be a differentiating factor. IntelliMind Inc. should train its employees to be knowledgeable, responsive, and helpful to customers' inquiries and concerns.\n",
      "\n",
      "5. Attend Industry Events: Participating in industry events such as conferences, trade shows, and workshops can help IntelliMind Inc. to network with potential clients, learn about the latest trends and technologies, and showcase its products and services.\n",
      "\n",
      "6. Consider Strategic Acquisitions: Acquiring other\n"
     ]
    }
   ],
   "source": [
    "print(chain.run(\"artifical intelligence\"))"
   ]
  },
  {
   "cell_type": "markdown",
   "id": "5a679a19-0f04-440c-86bb-c2eb56f8f746",
   "metadata": {},
   "source": [
    "# Now lets try to understand the sequential chain"
   ]
  },
  {
   "cell_type": "code",
   "execution_count": 59,
   "id": "6820e353-a1a7-408f-ad75-67bb4c7146e2",
   "metadata": {},
   "outputs": [],
   "source": [
    "prompt_template_name=PromptTemplate(\n",
    "    input_variables=[\"cuisine\"],\n",
    "    template=\"i want to open a restaurant for {cuisine}, suggest a fency name for it\"\n",
    ")\n",
    "\n",
    "name_chain=LLMChain(llm=client, prompt=prompt_template_name,output_key=\"restaurant_name\")"
   ]
  },
  {
   "cell_type": "code",
   "execution_count": 60,
   "id": "218e5548-ea52-4ab5-8cf0-6543c9f2d543",
   "metadata": {},
   "outputs": [],
   "source": [
    "prompt_templates_items=PromptTemplate( \n",
    "    input_variables=[\"restaurant_name\"],\n",
    "    template=\"suggest some menu items for {restaurant_name}\"\n",
    "    \n",
    ")\n",
    "\n",
    "food_items_chain=LLMChain(llm=client, prompt=prompt_templates_items, output_key=\"menu_items\")\n"
   ]
  },
  {
   "cell_type": "code",
   "execution_count": 61,
   "id": "3d62d1f3-5611-42c7-9bd8-03a44ad04a5f",
   "metadata": {},
   "outputs": [],
   "source": [
    "from langchain.chains import SequentialChain"
   ]
  },
  {
   "cell_type": "code",
   "execution_count": 62,
   "id": "e20612f4-bdf5-4375-9885-a9685d3dc560",
   "metadata": {},
   "outputs": [],
   "source": [
    "chain=SequentialChain(chains=[name_chain, food_items_chain],\n",
    "    input_variables=[\"cuisine\"],\n",
    "    output_variables=[\"restaurant_name\",\"menu_items\"]\n",
    "    \n",
    ")"
   ]
  },
  {
   "cell_type": "code",
   "execution_count": 65,
   "id": "751b9717-a5e3-4969-9f78-703cc1543653",
   "metadata": {},
   "outputs": [
    {
     "data": {
      "text/plain": [
       "{'cuisine': 'indian',\n",
       " 'restaurant_name': '\\n\\n1. \"Saffron Spice\"\\n2. \"Tandoori Temptations\"\\n3. \"Curry & Co.\"\\n4. \"Naan N\\' Spice\"\\n5. \"Masala Mansion\"\\n6. \"Chaat House\"\\n7. \"The Indian Kitchen\"\\n8. \"Garam Masala Grill\"\\n9. \"The Spice Route\"\\n10. \"Biryani Bistro\"',\n",
       " 'menu_items': '\\n\\n1. \"Saffron Chicken Tikka\"\\n2. \"Tandoori Lamb Chops\"\\n3. \"Butter Chicken Curry\"\\n4. \"Garlic Naan\"\\n5. \"Spicy Masala Shrimp\"\\n6. \"Samosas with Chutney\"\\n7. \"Chicken Tikka Masala\"\\n8. \"Spicy Paneer Tikka\"\\n9. \"Tandoori Mixed Grill\"\\n10. \"Vegetable Biryani\"'}"
      ]
     },
     "execution_count": 65,
     "metadata": {},
     "output_type": "execute_result"
    }
   ],
   "source": [
    "chain({\"cuisine\":\"indian\"})"
   ]
  },
  {
   "cell_type": "markdown",
   "id": "02097042-6ddf-4c36-aaa8-c9de8b2824b6",
   "metadata": {},
   "source": [
    "# document loders"
   ]
  },
  {
   "cell_type": "code",
   "execution_count": 76,
   "id": "fddb1963-d819-4148-9b9f-112ca9eb56f8",
   "metadata": {},
   "outputs": [],
   "source": [
    "from langchain.document_loaders import PyPDFLoader"
   ]
  },
  {
   "cell_type": "code",
   "execution_count": 77,
   "id": "69aea42c-2dd3-40bc-bee6-409f11769524",
   "metadata": {},
   "outputs": [],
   "source": [
    "loader = PyPDFLoader(r\"C:\\Users\\Admin\\Desktop\\nidhigenai\\sodapdf-converted.pdf\")"
   ]
  },
  {
   "cell_type": "code",
   "execution_count": 78,
   "id": "d54ad72a-82f1-4400-ad0e-0acc1db2be09",
   "metadata": {},
   "outputs": [
    {
     "data": {
      "text/plain": [
       "<langchain_community.document_loaders.pdf.PyPDFLoader at 0x1adf5de0a90>"
      ]
     },
     "execution_count": 78,
     "metadata": {},
     "output_type": "execute_result"
    }
   ],
   "source": [
    "loader"
   ]
  },
  {
   "cell_type": "code",
   "execution_count": 80,
   "id": "d43cdcb2-dbb1-4ce7-bbe5-453c9a6990a2",
   "metadata": {},
   "outputs": [],
   "source": [
    "pages = loader.load_and_split()"
   ]
  },
  {
   "cell_type": "code",
   "execution_count": 81,
   "id": "d71190d3-bbcf-425a-aece-6ac137a4ed8f",
   "metadata": {},
   "outputs": [
    {
     "data": {
      "text/plain": [
       "[Document(page_content='The world must be made safe for democracy. Its peace must be planted upon the tested foundations of \\npolitical liberty. We have no selfish ends to serve. We desire no conquest, no dominion. We seek no \\nindemnities for ourselves, no material compensation for the sacrifices we shall freely make. We are but \\none of the champions of the rights of mankind. We shall be satisfied when those rights have been made \\nas secure as the faith and the freedom of nations can make them.  \\n  \\nJust because we fight without rancor and without selfish object, seeking nothing for ourselves but what we\\nshall wish to share with all free peoples, we shall, I feel confident, conduct our operations as belligerents \\nwithout passion and ourselves observe with proud punctilio the principles of right and of fair play we \\nprofess to be fighting for.  \\n  \\n¼  \\n  \\nIt will be all the easier for us to conduct ourselves as belligerents in a high spirit of right and fairness \\nbecause we act without animus, not in enmity toward a people or with the desire to bring any injury or \\ndisadvantage upon them, but only in armed opposition to an irresponsible government which has thrown \\naside all considerations of humanity and of right and is running amuck. We are, let me say again, the \\nsincere friends of the German people, and shall desire nothing so much as the early reestablishment of \\nintimate relations of mutual advantage between usÐhowever hard it may be for them, for the time being, \\nto believe that this is spoken from our hearts.  \\n  \\nWe have borne with their present government through all these bitter months because of that \\nfriendshipÐexercising a patience and forbearance which would otherwise have been impossible. We \\nshall, happily, still have an opportunity to prove that friendship in our daily attitude and actions toward the \\nmillions of men and women of German birth and native sympathy who live among us and share our life, \\nand we shall be proud to prove it toward all who are in fact loyal to their neighbors and to the government \\nin the hour of test. They are, most of them, as true and loyal Americans as if they had never known any \\nother fealty or allegiance. They will be prompt to stand with us in rebuking and restraining the few who \\nmay be of a different mind and purpose. If there should be disloyalty, it will be dealt with with a firm hand \\nof stern repression; but, if it lifts its head at all, it will lift it only here and there and without countenance \\nexcept from a lawless and malignant few.  \\n  \\nIt is a distressing and oppressive duty, gentlemen of the Congress, which I have performed in thus \\naddressing you. There are, it may be, many months of fiery trial and sacrifice ahead of us. It is a fearful \\nthing to lead this great peaceful people into war, into the most terrible and disastrous of all wars, \\ncivilization itself seeming to be in the balance. But the right is more precious than peace, and we shall \\nfight for the things which we have always carried nearest our heartsÐfor democracy, for the right of those\\nwho submit to authority to have a voice in their own governments, for the rights and liberties of small \\nnations, for a universal dominion of right by such a concert of free peoples as shall bring peace and safety\\nto all nations and make the world itself at last free.  \\n  \\nTo such a task we can dedicate our lives and our fortunes, everything that we are and everything that we \\nhave, with the pride of those who know that the day has come when America is privileged to spend her \\nblood and her might for the principles that gave her birth and happiness and the peace which she has \\ntreasured. God helping her, she can do no other.', metadata={'source': 'C:\\\\Users\\\\Admin\\\\Desktop\\\\nidhigenai\\\\sodapdf-converted.pdf', 'page': 0})]"
      ]
     },
     "execution_count": 81,
     "metadata": {},
     "output_type": "execute_result"
    }
   ],
   "source": [
    "pages"
   ]
  },
  {
   "cell_type": "markdown",
   "id": "7c015293-3cbe-4929-b82d-e8585b163a8c",
   "metadata": {},
   "source": [
    "# memory"
   ]
  },
  {
   "cell_type": "code",
   "execution_count": 84,
   "id": "54a52814-e96c-46e6-8840-e54749759e9d",
   "metadata": {},
   "outputs": [],
   "source": [
    "from langchain.prompts import PromptTemplate\n",
    "from langchain.chains import LLMChain\n",
    "from langchain.llms import OpenAI\n"
   ]
  },
  {
   "cell_type": "code",
   "execution_count": 86,
   "id": "222f3cb4-30bc-4a5e-b83d-85e7d5aa50fe",
   "metadata": {},
   "outputs": [],
   "source": [
    "OPENAI_KEY=\"\""
   ]
  },
  {
   "cell_type": "code",
   "execution_count": 87,
   "id": "f392f959-b2b8-4542-bcbc-d8196bfe82fe",
   "metadata": {},
   "outputs": [],
   "source": [
    "\n",
    "prompt_template=PromptTemplate(\n",
    "    input_variables=['product'],\n",
    "    template=\"what is a good name for a company that makes {product}\"\n",
    ")"
   ]
  },
  {
   "cell_type": "code",
   "execution_count": 88,
   "id": "d6940738-9240-4ead-af88-c073efcdda20",
   "metadata": {},
   "outputs": [],
   "source": [
    "chain=LLMChain(llm=client,prompt=prompt_template)"
   ]
  },
  {
   "cell_type": "code",
   "execution_count": 89,
   "id": "823affda-d3f2-45c8-9ac1-1f36ea5cc56a",
   "metadata": {},
   "outputs": [
    {
     "name": "stdout",
     "output_type": "stream",
     "text": [
      "cake wrappers\n",
      "\n",
      "Rainbow Wraps Co.\n"
     ]
    }
   ],
   "source": [
    "print(chain.run(\"colorful cup\").strip())"
   ]
  },
  {
   "cell_type": "code",
   "execution_count": 90,
   "id": "892045e2-9fa0-4131-9124-227c9352f2fc",
   "metadata": {},
   "outputs": [
    {
     "name": "stdout",
     "output_type": "stream",
     "text": [
      "1. ColorPop Cosmetics\n",
      "2. LuxeLips\n",
      "3. BoldBeauty\n",
      "4. GlamGlow Cosmetics\n",
      "5. Kissable Cosmetics\n",
      "6. PoutPerfection\n",
      "7. LusciousLips\n",
      "8. Enchanté Cosmetics\n",
      "9. VelvetVanity\n",
      "10. Rouge Reign\n"
     ]
    }
   ],
   "source": [
    "print(chain.run(\"lipstic\").strip())"
   ]
  },
  {
   "cell_type": "code",
   "execution_count": 91,
   "id": "2e5cb6b6-8916-4d55-a6fe-d948198e5779",
   "metadata": {},
   "outputs": [],
   "source": [
    "chain.memory"
   ]
  },
  {
   "cell_type": "code",
   "execution_count": 92,
   "id": "3ec0a55e-d02e-4ebf-9040-b8c4c5c8f71e",
   "metadata": {},
   "outputs": [
    {
     "data": {
      "text/plain": [
       "NoneType"
      ]
     },
     "execution_count": 92,
     "metadata": {},
     "output_type": "execute_result"
    }
   ],
   "source": [
    "type(chain.memory)"
   ]
  },
  {
   "cell_type": "markdown",
   "id": "f54cf62a-77e8-449a-9eeb-2ee53340fc1b",
   "metadata": {},
   "source": [
    "# ConversationBufferMemory\n",
    "to remember all previous conversation"
   ]
  },
  {
   "cell_type": "code",
   "execution_count": 104,
   "id": "1333cbed-d10b-40a4-a863-88d0d3c75cad",
   "metadata": {},
   "outputs": [],
   "source": [
    "from langchain.memory import ConversationBufferMemory\n"
   ]
  },
  {
   "cell_type": "code",
   "execution_count": 105,
   "id": "141535fb-df0d-4ceb-a92d-03e592b2a029",
   "metadata": {},
   "outputs": [],
   "source": [
    "memory = ConversationBufferMemory()\n"
   ]
  },
  {
   "cell_type": "code",
   "execution_count": 106,
   "id": "ab94eef1-e0dd-46ee-abd5-af4719f7696f",
   "metadata": {},
   "outputs": [],
   "source": [
    "\n",
    "prompt_template=PromptTemplate(\n",
    "    input_variables=['product'],\n",
    "    template=\"what is a good name for a company that makes {product}\"\n",
    ")"
   ]
  },
  {
   "cell_type": "code",
   "execution_count": 107,
   "id": "4afa3c5a-6b31-4dd6-89a4-935753ae6a6d",
   "metadata": {},
   "outputs": [],
   "source": [
    "chain=LLMChain(llm=client,prompt=prompt_template,memory=memory)"
   ]
  },
  {
   "cell_type": "code",
   "execution_count": 108,
   "id": "e80105de-43f4-413c-bc3b-55803c65abbb",
   "metadata": {},
   "outputs": [
    {
     "data": {
      "text/plain": [
       "'\"Vineyard Vista\" or \"Vintage Vines\"'"
      ]
     },
     "execution_count": 108,
     "metadata": {},
     "output_type": "execute_result"
    }
   ],
   "source": [
    "chain.run(\"wine\").strip()"
   ]
  },
  {
   "cell_type": "code",
   "execution_count": 109,
   "id": "6f20b45e-403e-4702-8bfb-e7f8c9353f60",
   "metadata": {},
   "outputs": [
    {
     "data": {
      "text/plain": [
       "'1. ShutterWorks\\n2. LensCrafters\\n3. FocusTech\\n4. SnapVision\\n5. CaptureCo\\n6. VisualVantage\\n7. FrameMasters\\n8. ClickPro\\n9. Aperture Innovations\\n10. ImageWorks'"
      ]
     },
     "execution_count": 109,
     "metadata": {},
     "output_type": "execute_result"
    }
   ],
   "source": [
    "chain.run(\"camara\").strip()"
   ]
  },
  {
   "cell_type": "code",
   "execution_count": 110,
   "id": "77423897-7bfd-4b27-ab45-e5af4df3e325",
   "metadata": {},
   "outputs": [
    {
     "data": {
      "text/plain": [
       "'\"SkyTech Innovations\"'"
      ]
     },
     "execution_count": 110,
     "metadata": {},
     "output_type": "execute_result"
    }
   ],
   "source": [
    "chain.run(\"drons\").strip()"
   ]
  },
  {
   "cell_type": "code",
   "execution_count": 112,
   "id": "275d2ce2-ea53-491b-9dde-2f0fa111cd12",
   "metadata": {},
   "outputs": [
    {
     "data": {
      "text/plain": [
       "ConversationBufferMemory(chat_memory=InMemoryChatMessageHistory(messages=[HumanMessage(content='wine'), AIMessage(content='\\n\\n\"Vineyard Vista\" or \"Vintage Vines\"'), HumanMessage(content='camara'), AIMessage(content='\\n\\n1. ShutterWorks\\n2. LensCrafters\\n3. FocusTech\\n4. SnapVision\\n5. CaptureCo\\n6. VisualVantage\\n7. FrameMasters\\n8. ClickPro\\n9. Aperture Innovations\\n10. ImageWorks \\n'), HumanMessage(content='drons'), AIMessage(content='\\n\\n\"SkyTech Innovations\" ')]))"
      ]
     },
     "execution_count": 112,
     "metadata": {},
     "output_type": "execute_result"
    }
   ],
   "source": [
    "chain.memory"
   ]
  },
  {
   "cell_type": "raw",
   "id": "6b9d5385-42cb-477c-80a8-b2426cb99a62",
   "metadata": {},
   "source": [
    "print(chain.memory.buffer)"
   ]
  },
  {
   "cell_type": "code",
   "execution_count": null,
   "id": "9e7839ce-55fd-47d7-8361-f31c69e3da2e",
   "metadata": {},
   "outputs": [],
   "source": []
  }
 ],
 "metadata": {
  "kernelspec": {
   "display_name": "Python 3 (ipykernel)",
   "language": "python",
   "name": "python3"
  },
  "language_info": {
   "codemirror_mode": {
    "name": "ipython",
    "version": 3
   },
   "file_extension": ".py",
   "mimetype": "text/x-python",
   "name": "python",
   "nbconvert_exporter": "python",
   "pygments_lexer": "ipython3",
   "version": "3.11.4"
  }
 },
 "nbformat": 4,
 "nbformat_minor": 5
}
